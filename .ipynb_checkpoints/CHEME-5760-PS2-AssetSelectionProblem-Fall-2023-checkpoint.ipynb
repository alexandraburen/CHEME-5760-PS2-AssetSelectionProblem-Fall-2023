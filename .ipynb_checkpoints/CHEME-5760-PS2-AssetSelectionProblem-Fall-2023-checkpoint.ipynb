{
 "cells": [
  {
   "cell_type": "markdown",
   "id": "b591adc4-0afa-4cd6-9e9d-b408fb7edb7e",
   "metadata": {},
   "source": [
    "# PS2: Selection of an Uncorrelated Tangent Portfolio\n",
    "Fill me in.\n",
    "\n",
    "## Problem statement\n",
    "* Task 1: Compute the log return array and covariance matrix for a collection of `N = 10` stocks that you select from the historical dataset \n",
    "* Task 2: Compute the efficient frontier for your collection of `N = 10` stocks\n",
    "* Task 3: Compute the capital allocation line connecting the risk-free asset and the tangent portfolio\n",
    "* Task 4: Use your estimated value for the risk aversion parameter `A` to estimate your investment allocation along the capital allocation line"
   ]
  },
  {
   "cell_type": "markdown",
   "id": "714c5346-c7ac-44f1-a5bc-a58d77ce90d3",
   "metadata": {},
   "source": [
    "## Setup"
   ]
  },
  {
   "cell_type": "code",
   "execution_count": 4,
   "id": "5b2b39ba-7a95-420d-8641-3d85cd4cae87",
   "metadata": {
    "tags": []
   },
   "outputs": [
    {
     "name": "stderr",
     "output_type": "stream",
     "text": [
      "\u001b[32m\u001b[1m    Updating\u001b[22m\u001b[39m git-repo `https://github.com/varnerlab/VLDecisionsPackage.jl.git`\n",
      "\u001b[32m\u001b[1m   Resolving\u001b[22m\u001b[39m package versions...\n",
      "\u001b[32m\u001b[1m  No Changes\u001b[22m\u001b[39m to `~/Desktop/julia_work/CHEME-5760-PS2-AssetSelectionProblem-Fall-2023/Project.toml`\n",
      "\u001b[32m\u001b[1m  No Changes\u001b[22m\u001b[39m to `~/Desktop/julia_work/CHEME-5760-PS2-AssetSelectionProblem-Fall-2023/Manifest.toml`\n",
      "\u001b[32m\u001b[1m  Activating\u001b[22m\u001b[39m project at `~/Desktop/julia_work/CHEME-5760-PS2-AssetSelectionProblem-Fall-2023`\n",
      "\u001b[32m\u001b[1m    Updating\u001b[22m\u001b[39m registry at `~/.julia/registries/General.toml`\n",
      "\u001b[32m\u001b[1m    Updating\u001b[22m\u001b[39m git-repo `https://github.com/varnerlab/VLDecisionsPackage.jl.git`\n",
      "\u001b[32m\u001b[1m  No Changes\u001b[22m\u001b[39m to `~/Desktop/julia_work/CHEME-5760-PS2-AssetSelectionProblem-Fall-2023/Project.toml`\n",
      "\u001b[32m\u001b[1m  No Changes\u001b[22m\u001b[39m to `~/Desktop/julia_work/CHEME-5760-PS2-AssetSelectionProblem-Fall-2023/Manifest.toml`\n"
     ]
    }
   ],
   "source": [
    "include(\"Include.jl\");"
   ]
  },
  {
   "cell_type": "markdown",
   "id": "776aacc5-dd2a-4962-8f94-2c8ef0944208",
   "metadata": {},
   "source": [
    "### Load historical dataset\n",
    "We gathered a daily open-high-low-close `dataset` for each firm in the [S&P500](https://en.wikipedia.org/wiki/S%26P_500) for the past five-trading years (a maximum of `1256` data points per firm). However, not all the firms in the `dataset` have the maximum number of trading days, i.e., some firms are missing information for various reasons; perhaps they were acquired, merged, or delisted, etc. We will exclude these firms from the `dataset`.\n",
    "\n",
    "We load the price `dataset` by calling the `MyPortfolioDataSet()` function:"
   ]
  },
  {
   "cell_type": "code",
   "execution_count": 41,
   "id": "04e0aa3d-89c1-4613-b5da-ef27c5e8bd98",
   "metadata": {
    "tags": []
   },
   "outputs": [
    {
     "data": {
      "text/html": [
       "<div><div style = \"float: left;\"><span>1256×7 DataFrame</span></div><div style = \"float: right;\"><span style = \"font-style: italic;\">1231 rows omitted</span></div><div style = \"clear: both;\"></div></div><div class = \"data-frame\" style = \"overflow-x: scroll;\"><table class = \"data-frame\" style = \"margin-bottom: 6px;\"><thead><tr class = \"header\"><th class = \"rowNumber\" style = \"font-weight: bold; text-align: right;\">Row</th><th style = \"text-align: left;\">volume</th><th style = \"text-align: left;\">volume_weighted_average_price</th><th style = \"text-align: left;\">open</th><th style = \"text-align: left;\">close</th><th style = \"text-align: left;\">high</th><th style = \"text-align: left;\">low</th><th style = \"text-align: left;\">number_of_transactions</th></tr><tr class = \"subheader headerLastRow\"><th class = \"rowNumber\" style = \"font-weight: bold; text-align: right;\"></th><th title = \"Float64\" style = \"text-align: left;\">Float64</th><th title = \"Float64\" style = \"text-align: left;\">Float64</th><th title = \"Float64\" style = \"text-align: left;\">Float64</th><th title = \"Float64\" style = \"text-align: left;\">Float64</th><th title = \"Float64\" style = \"text-align: left;\">Float64</th><th title = \"Float64\" style = \"text-align: left;\">Float64</th><th title = \"Int64\" style = \"text-align: left;\">Int64</th></tr></thead><tbody><tr><td class = \"rowNumber\" style = \"font-weight: bold; text-align: right;\">1</td><td style = \"text-align: right;\">1.17982e8</td><td style = \"text-align: right;\">43.2781</td><td style = \"text-align: right;\">43.1325</td><td style = \"text-align: right;\">43.0575</td><td style = \"text-align: right;\">43.6375</td><td style = \"text-align: right;\">42.99</td><td style = \"text-align: right;\">188333</td></tr><tr><td class = \"rowNumber\" style = \"font-weight: bold; text-align: right;\">2</td><td style = \"text-align: right;\">8.97384e7</td><td style = \"text-align: right;\">43.2473</td><td style = \"text-align: right;\">43.135</td><td style = \"text-align: right;\">43.2575</td><td style = \"text-align: right;\">43.3675</td><td style = \"text-align: right;\">43.02</td><td style = \"text-align: right;\">153150</td></tr><tr><td class = \"rowNumber\" style = \"font-weight: bold; text-align: right;\">3</td><td style = \"text-align: right;\">9.46401e7</td><td style = \"text-align: right;\">43.6732</td><td style = \"text-align: right;\">43.36</td><td style = \"text-align: right;\">43.75</td><td style = \"text-align: right;\">43.8425</td><td style = \"text-align: right;\">43.2625</td><td style = \"text-align: right;\">152173</td></tr><tr><td class = \"rowNumber\" style = \"font-weight: bold; text-align: right;\">4</td><td style = \"text-align: right;\">8.22711e7</td><td style = \"text-align: right;\">43.6581</td><td style = \"text-align: right;\">43.5875</td><td style = \"text-align: right;\">43.5875</td><td style = \"text-align: right;\">43.9025</td><td style = \"text-align: right;\">43.4825</td><td style = \"text-align: right;\">138842</td></tr><tr><td class = \"rowNumber\" style = \"font-weight: bold; text-align: right;\">5</td><td style = \"text-align: right;\">8.6336e7</td><td style = \"text-align: right;\">43.5803</td><td style = \"text-align: right;\">43.6375</td><td style = \"text-align: right;\">43.5825</td><td style = \"text-align: right;\">43.765</td><td style = \"text-align: right;\">43.3525</td><td style = \"text-align: right;\">154006</td></tr><tr><td class = \"rowNumber\" style = \"font-weight: bold; text-align: right;\">6</td><td style = \"text-align: right;\">9.58396e7</td><td style = \"text-align: right;\">43.4126</td><td style = \"text-align: right;\">43.29</td><td style = \"text-align: right;\">43.5725</td><td style = \"text-align: right;\">43.575</td><td style = \"text-align: right;\">43.25</td><td style = \"text-align: right;\">151201</td></tr><tr><td class = \"rowNumber\" style = \"font-weight: bold; text-align: right;\">7</td><td style = \"text-align: right;\">7.46709e7</td><td style = \"text-align: right;\">43.7894</td><td style = \"text-align: right;\">43.6475</td><td style = \"text-align: right;\">43.82</td><td style = \"text-align: right;\">43.8722</td><td style = \"text-align: right;\">43.6225</td><td style = \"text-align: right;\">117864</td></tr><tr><td class = \"rowNumber\" style = \"font-weight: bold; text-align: right;\">8</td><td style = \"text-align: right;\">9.68123e7</td><td style = \"text-align: right;\">44.1806</td><td style = \"text-align: right;\">44.045</td><td style = \"text-align: right;\">44.2725</td><td style = \"text-align: right;\">44.34</td><td style = \"text-align: right;\">43.9125</td><td style = \"text-align: right;\">151952</td></tr><tr><td class = \"rowNumber\" style = \"font-weight: bold; text-align: right;\">9</td><td style = \"text-align: right;\">1.18128e8</td><td style = \"text-align: right;\">44.3672</td><td style = \"text-align: right;\">44.475</td><td style = \"text-align: right;\">44.0475</td><td style = \"text-align: right;\">44.8475</td><td style = \"text-align: right;\">44.035</td><td style = \"text-align: right;\">195534</td></tr><tr><td class = \"rowNumber\" style = \"font-weight: bold; text-align: right;\">10</td><td style = \"text-align: right;\">1.37547e8</td><td style = \"text-align: right;\">44.3277</td><td style = \"text-align: right;\">44.0375</td><td style = \"text-align: right;\">44.775</td><td style = \"text-align: right;\">44.8125</td><td style = \"text-align: right;\">43.7675</td><td style = \"text-align: right;\">218162</td></tr><tr><td class = \"rowNumber\" style = \"font-weight: bold; text-align: right;\">11</td><td style = \"text-align: right;\">1.24773e8</td><td style = \"text-align: right;\">44.8455</td><td style = \"text-align: right;\">44.8425</td><td style = \"text-align: right;\">44.815</td><td style = \"text-align: right;\">45.025</td><td style = \"text-align: right;\">44.5625</td><td style = \"text-align: right;\">185121</td></tr><tr><td class = \"rowNumber\" style = \"font-weight: bold; text-align: right;\">12</td><td style = \"text-align: right;\">1.297e8</td><td style = \"text-align: right;\">44.6099</td><td style = \"text-align: right;\">44.6525</td><td style = \"text-align: right;\">44.615</td><td style = \"text-align: right;\">44.895</td><td style = \"text-align: right;\">44.3525</td><td style = \"text-align: right;\">160569</td></tr><tr><td class = \"rowNumber\" style = \"font-weight: bold; text-align: right;\">13</td><td style = \"text-align: right;\">1.08434e8</td><td style = \"text-align: right;\">44.2809</td><td style = \"text-align: right;\">44.325</td><td style = \"text-align: right;\">44.25</td><td style = \"text-align: right;\">44.445</td><td style = \"text-align: right;\">44.1505</td><td style = \"text-align: right;\">163847</td></tr><tr><td style = \"text-align: right;\">&vellip;</td><td style = \"text-align: right;\">&vellip;</td><td style = \"text-align: right;\">&vellip;</td><td style = \"text-align: right;\">&vellip;</td><td style = \"text-align: right;\">&vellip;</td><td style = \"text-align: right;\">&vellip;</td><td style = \"text-align: right;\">&vellip;</td><td style = \"text-align: right;\">&vellip;</td></tr><tr><td class = \"rowNumber\" style = \"font-weight: bold; text-align: right;\">1245</td><td style = \"text-align: right;\">8.22112e7</td><td style = \"text-align: right;\">144.25</td><td style = \"text-align: right;\">145.35</td><td style = \"text-align: right;\">143.21</td><td style = \"text-align: right;\">146.655</td><td style = \"text-align: right;\">141.16</td><td style = \"text-align: right;\">597870</td></tr><tr><td class = \"rowNumber\" style = \"font-weight: bold; text-align: right;\">1246</td><td style = \"text-align: right;\">9.84639e7</td><td style = \"text-align: right;\">137.636</td><td style = \"text-align: right;\">141.11</td><td style = \"text-align: right;\">136.5</td><td style = \"text-align: right;\">141.8</td><td style = \"text-align: right;\">136.025</td><td style = \"text-align: right;\">879346</td></tr><tr><td class = \"rowNumber\" style = \"font-weight: bold; text-align: right;\">1247</td><td style = \"text-align: right;\">1.60064e8</td><td style = \"text-align: right;\">134.948</td><td style = \"text-align: right;\">136.685</td><td style = \"text-align: right;\">134.51</td><td style = \"text-align: right;\">137.65</td><td style = \"text-align: right;\">133.73</td><td style = \"text-align: right;\">821076</td></tr><tr><td class = \"rowNumber\" style = \"font-weight: bold; text-align: right;\">1248</td><td style = \"text-align: right;\">7.95926e7</td><td style = \"text-align: right;\">132.467</td><td style = \"text-align: right;\">135.11</td><td style = \"text-align: right;\">132.37</td><td style = \"text-align: right;\">135.2</td><td style = \"text-align: right;\">131.32</td><td style = \"text-align: right;\">705820</td></tr><tr><td class = \"rowNumber\" style = \"font-weight: bold; text-align: right;\">1249</td><td style = \"text-align: right;\">7.74307e7</td><td style = \"text-align: right;\">131.849</td><td style = \"text-align: right;\">131.39</td><td style = \"text-align: right;\">132.3</td><td style = \"text-align: right;\">133.25</td><td style = \"text-align: right;\">129.89</td><td style = \"text-align: right;\">640693</td></tr><tr><td class = \"rowNumber\" style = \"font-weight: bold; text-align: right;\">1250</td><td style = \"text-align: right;\">8.5928e7</td><td style = \"text-align: right;\">135.315</td><td style = \"text-align: right;\">132.98</td><td style = \"text-align: right;\">135.45</td><td style = \"text-align: right;\">136.81</td><td style = \"text-align: right;\">132.75</td><td style = \"text-align: right;\">588684</td></tr><tr><td class = \"rowNumber\" style = \"font-weight: bold; text-align: right;\">1251</td><td style = \"text-align: right;\">7.76961e7</td><td style = \"text-align: right;\">131.9</td><td style = \"text-align: right;\">134.352</td><td style = \"text-align: right;\">132.23</td><td style = \"text-align: right;\">134.56</td><td style = \"text-align: right;\">130.3</td><td style = \"text-align: right;\">643294</td></tr><tr><td class = \"rowNumber\" style = \"font-weight: bold; text-align: right;\">1252</td><td style = \"text-align: right;\">6.38029e7</td><td style = \"text-align: right;\">131.152</td><td style = \"text-align: right;\">130.92</td><td style = \"text-align: right;\">131.86</td><td style = \"text-align: right;\">132.415</td><td style = \"text-align: right;\">129.64</td><td style = \"text-align: right;\">541274</td></tr><tr><td class = \"rowNumber\" style = \"font-weight: bold; text-align: right;\">1253</td><td style = \"text-align: right;\">6.90078e7</td><td style = \"text-align: right;\">129.952</td><td style = \"text-align: right;\">131.38</td><td style = \"text-align: right;\">130.03</td><td style = \"text-align: right;\">131.41</td><td style = \"text-align: right;\">128.72</td><td style = \"text-align: right;\">608331</td></tr><tr><td class = \"rowNumber\" style = \"font-weight: bold; text-align: right;\">1254</td><td style = \"text-align: right;\">8.54384e7</td><td style = \"text-align: right;\">127.592</td><td style = \"text-align: right;\">129.67</td><td style = \"text-align: right;\">126.04</td><td style = \"text-align: right;\">131.028</td><td style = \"text-align: right;\">125.87</td><td style = \"text-align: right;\">762246</td></tr><tr><td class = \"rowNumber\" style = \"font-weight: bold; text-align: right;\">1255</td><td style = \"text-align: right;\">7.55018e7</td><td style = \"text-align: right;\">129.488</td><td style = \"text-align: right;\">127.99</td><td style = \"text-align: right;\">129.61</td><td style = \"text-align: right;\">130.481</td><td style = \"text-align: right;\">127.73</td><td style = \"text-align: right;\">598204</td></tr><tr><td class = \"rowNumber\" style = \"font-weight: bold; text-align: right;\">1256</td><td style = \"text-align: right;\">7.62042e7</td><td style = \"text-align: right;\">128.801</td><td style = \"text-align: right;\">128.41</td><td style = \"text-align: right;\">129.93</td><td style = \"text-align: right;\">129.95</td><td style = \"text-align: right;\">127.43</td><td style = \"text-align: right;\">592655</td></tr></tbody></table></div>"
      ],
      "text/latex": [
       "\\begin{tabular}{r|ccccccc}\n",
       "\t& volume & volume\\_weighted\\_average\\_price & open & close & high & low & number\\_of\\_transactions\\\\\n",
       "\t\\hline\n",
       "\t& Float64 & Float64 & Float64 & Float64 & Float64 & Float64 & Int64\\\\\n",
       "\t\\hline\n",
       "\t1 & 1.17982e8 & 43.2781 & 43.1325 & 43.0575 & 43.6375 & 42.99 & 188333 \\\\\n",
       "\t2 & 8.97384e7 & 43.2473 & 43.135 & 43.2575 & 43.3675 & 43.02 & 153150 \\\\\n",
       "\t3 & 9.46401e7 & 43.6732 & 43.36 & 43.75 & 43.8425 & 43.2625 & 152173 \\\\\n",
       "\t4 & 8.22711e7 & 43.6581 & 43.5875 & 43.5875 & 43.9025 & 43.4825 & 138842 \\\\\n",
       "\t5 & 8.6336e7 & 43.5803 & 43.6375 & 43.5825 & 43.765 & 43.3525 & 154006 \\\\\n",
       "\t6 & 9.58396e7 & 43.4126 & 43.29 & 43.5725 & 43.575 & 43.25 & 151201 \\\\\n",
       "\t7 & 7.46709e7 & 43.7894 & 43.6475 & 43.82 & 43.8722 & 43.6225 & 117864 \\\\\n",
       "\t8 & 9.68123e7 & 44.1806 & 44.045 & 44.2725 & 44.34 & 43.9125 & 151952 \\\\\n",
       "\t9 & 1.18128e8 & 44.3672 & 44.475 & 44.0475 & 44.8475 & 44.035 & 195534 \\\\\n",
       "\t10 & 1.37547e8 & 44.3277 & 44.0375 & 44.775 & 44.8125 & 43.7675 & 218162 \\\\\n",
       "\t11 & 1.24773e8 & 44.8455 & 44.8425 & 44.815 & 45.025 & 44.5625 & 185121 \\\\\n",
       "\t12 & 1.297e8 & 44.6099 & 44.6525 & 44.615 & 44.895 & 44.3525 & 160569 \\\\\n",
       "\t13 & 1.08434e8 & 44.2809 & 44.325 & 44.25 & 44.445 & 44.1505 & 163847 \\\\\n",
       "\t14 & 1.30757e8 & 44.4905 & 44.325 & 44.26 & 44.86 & 44.205 & 211193 \\\\\n",
       "\t15 & 2.0442e8 & 43.7034 & 44.3125 & 43.555 & 44.325 & 43.3 & 325705 \\\\\n",
       "\t16 & 1.66116e8 & 43.0611 & 43.6263 & 42.7775 & 43.7375 & 42.6325 & 293742 \\\\\n",
       "\t17 & 1.56498e8 & 42.7716 & 43.0 & 42.8775 & 43.0 & 42.515 & 243617 \\\\\n",
       "\t18 & 2.02562e8 & 42.0885 & 42.54 & 41.99 & 42.54 & 41.7675 & 336844 \\\\\n",
       "\t19 & 1.84193e8 & 41.5746 & 41.3813 & 41.7425 & 41.8425 & 41.175 & 336706 \\\\\n",
       "\t20 & 1.29916e8 & 41.8319 & 41.7175 & 41.8575 & 42.1104 & 41.625 & 225335 \\\\\n",
       "\t21 & 1.88923e8 & 41.9943 & 41.7913 & 41.945 & 42.155 & 41.69 & 309291 \\\\\n",
       "\t22 & 3.46375e8 & 40.7329 & 41.5 & 40.125 & 41.7 & 40.025 & 604123 \\\\\n",
       "\t23 & 2.90954e8 & 40.1086 & 39.775 & 39.1225 & 40.97 & 39.0 & 528511 \\\\\n",
       "\t24 & 2.72875e8 & 39.9124 & 38.7075 & 40.7575 & 40.93 & 38.5 & 506990 \\\\\n",
       "\t25 & 2.06434e8 & 40.2772 & 40.7713 & 39.885 & 40.85 & 39.7671 & 341990 \\\\\n",
       "\t26 & 2.17562e8 & 39.7284 & 40.0725 & 38.7875 & 40.25 & 38.7575 & 366247 \\\\\n",
       "\t27 & 2.8169e8 & 38.7376 & 39.2675 & 39.1025 & 39.4725 & 37.56 & 442036 \\\\\n",
       "\t28 & 2.40878e8 & 40.3959 & 39.625 & 40.6775 & 40.9725 & 39.3775 & 362859 \\\\\n",
       "\t29 & 1.30197e8 & 40.8481 & 40.4875 & 41.085 & 41.1875 & 40.4125 & 219156 \\\\\n",
       "\t30 & 1.62514e8 & 41.4045 & 40.7612 & 41.8425 & 41.885 & 40.72 & 270794 \\\\\n",
       "\t$\\dots$ & $\\dots$ & $\\dots$ & $\\dots$ & $\\dots$ & $\\dots$ & $\\dots$ & $\\dots$ \\\\\n",
       "\\end{tabular}\n"
      ],
      "text/plain": [
       "\u001b[1m1256×7 DataFrame\u001b[0m\n",
       "\u001b[1m  Row \u001b[0m│\u001b[1m volume    \u001b[0m\u001b[1m volume_weighted_average_price \u001b[0m\u001b[1m open     \u001b[0m\u001b[1m close    \u001b[0m\u001b[1m high    \u001b[0m ⋯\n",
       "      │\u001b[90m Float64   \u001b[0m\u001b[90m Float64                       \u001b[0m\u001b[90m Float64  \u001b[0m\u001b[90m Float64  \u001b[0m\u001b[90m Float64 \u001b[0m ⋯\n",
       "──────┼─────────────────────────────────────────────────────────────────────────\n",
       "    1 │ 1.17982e8                        43.2781   43.1325   43.0575   43.6375 ⋯\n",
       "    2 │ 8.97384e7                        43.2473   43.135    43.2575   43.3675\n",
       "    3 │ 9.46401e7                        43.6732   43.36     43.75     43.8425\n",
       "    4 │ 8.22711e7                        43.6581   43.5875   43.5875   43.9025\n",
       "    5 │ 8.6336e7                         43.5803   43.6375   43.5825   43.765  ⋯\n",
       "    6 │ 9.58396e7                        43.4126   43.29     43.5725   43.575\n",
       "    7 │ 7.46709e7                        43.7894   43.6475   43.82     43.8722\n",
       "    8 │ 9.68123e7                        44.1806   44.045    44.2725   44.34\n",
       "    9 │ 1.18128e8                        44.3672   44.475    44.0475   44.8475 ⋯\n",
       "   10 │ 1.37547e8                        44.3277   44.0375   44.775    44.8125\n",
       "   11 │ 1.24773e8                        44.8455   44.8425   44.815    45.025\n",
       "  ⋮   │     ⋮                    ⋮                   ⋮         ⋮         ⋮     ⋱\n",
       " 1247 │ 1.60064e8                       134.948   136.685   134.51    137.65\n",
       " 1248 │ 7.95926e7                       132.467   135.11    132.37    135.2    ⋯\n",
       " 1249 │ 7.74307e7                       131.849   131.39    132.3     133.25\n",
       " 1250 │ 8.5928e7                        135.315   132.98    135.45    136.81\n",
       " 1251 │ 7.76961e7                       131.9     134.352   132.23    134.56\n",
       " 1252 │ 6.38029e7                       131.152   130.92    131.86    132.415  ⋯\n",
       " 1253 │ 6.90078e7                       129.952   131.38    130.03    131.41\n",
       " 1254 │ 8.54384e7                       127.592   129.67    126.04    131.028\n",
       " 1255 │ 7.55018e7                       129.488   127.99    129.61    130.481\n",
       " 1256 │ 7.62042e7                       128.801   128.41    129.93    129.95   ⋯\n",
       "\u001b[36m                                                 2 columns and 1235 rows omitted\u001b[0m"
      ]
     },
     "execution_count": 41,
     "metadata": {},
     "output_type": "execute_result"
    }
   ],
   "source": [
    "dataset = MyPortfolioDataSet() |> x-> x[\"dataset\"];"
   ]
  },
  {
   "cell_type": "code",
   "execution_count": 9,
   "id": "d7b380fb-0be0-4c59-8c0b-ef03d1994503",
   "metadata": {
    "tags": []
   },
   "outputs": [],
   "source": [
    "all_firms = keys(dataset) |> collect |> sort;"
   ]
  },
  {
   "cell_type": "code",
   "execution_count": 45,
   "id": "1f4ef776-0ae5-4af0-9204-6c3e06c54932",
   "metadata": {
    "tags": []
   },
   "outputs": [
    {
     "data": {
      "text/plain": [
       "443"
      ]
     },
     "execution_count": 45,
     "metadata": {},
     "output_type": "execute_result"
    }
   ],
   "source": []
  },
  {
   "cell_type": "markdown",
   "id": "7727a1f6-5952-40e4-97c3-2d8563600e4c",
   "metadata": {},
   "source": [
    "While it is sometimes convenient to work with the data using the `firm_index`, often we want to specify the [ticker symbol](https://en.wikipedia.org/wiki/Ticker_symbol#:~:text=A%20ticker%20symbol%20or%20stock,on%20a%20particular%20stock%20market.) instead. To facilitate this, let's load a mapping between the `firm_index` and the ticker symbols using the `MyFirmMappingDataSet()` function:"
   ]
  },
  {
   "cell_type": "code",
   "execution_count": 48,
   "id": "7af6103a-d54e-4d15-b966-0b32634a5815",
   "metadata": {
    "tags": []
   },
   "outputs": [
    {
     "data": {
      "text/html": [
       "<div><div style = \"float: left;\"><span>505×3 DataFrame</span></div><div style = \"float: right;\"><span style = \"font-style: italic;\">480 rows omitted</span></div><div style = \"clear: both;\"></div></div><div class = \"data-frame\" style = \"overflow-x: scroll;\"><table class = \"data-frame\" style = \"margin-bottom: 6px;\"><thead><tr class = \"header\"><th class = \"rowNumber\" style = \"font-weight: bold; text-align: right;\">Row</th><th style = \"text-align: left;\">Symbol</th><th style = \"text-align: left;\">Name</th><th style = \"text-align: left;\">Sector</th></tr><tr class = \"subheader headerLastRow\"><th class = \"rowNumber\" style = \"font-weight: bold; text-align: right;\"></th><th title = \"String7\" style = \"text-align: left;\">String7</th><th title = \"String\" style = \"text-align: left;\">String</th><th title = \"String31\" style = \"text-align: left;\">String31</th></tr></thead><tbody><tr><td class = \"rowNumber\" style = \"font-weight: bold; text-align: right;\">1</td><td style = \"text-align: left;\">MMM</td><td style = \"text-align: left;\">3M</td><td style = \"text-align: left;\">Industrials</td></tr><tr><td class = \"rowNumber\" style = \"font-weight: bold; text-align: right;\">2</td><td style = \"text-align: left;\">AOS</td><td style = \"text-align: left;\">A. O. Smith</td><td style = \"text-align: left;\">Industrials</td></tr><tr><td class = \"rowNumber\" style = \"font-weight: bold; text-align: right;\">3</td><td style = \"text-align: left;\">ABT</td><td style = \"text-align: left;\">Abbott Laboratories</td><td style = \"text-align: left;\">Health Care</td></tr><tr><td class = \"rowNumber\" style = \"font-weight: bold; text-align: right;\">4</td><td style = \"text-align: left;\">ABBV</td><td style = \"text-align: left;\">AbbVie</td><td style = \"text-align: left;\">Health Care</td></tr><tr><td class = \"rowNumber\" style = \"font-weight: bold; text-align: right;\">5</td><td style = \"text-align: left;\">ABMD</td><td style = \"text-align: left;\">Abiomed</td><td style = \"text-align: left;\">Health Care</td></tr><tr><td class = \"rowNumber\" style = \"font-weight: bold; text-align: right;\">6</td><td style = \"text-align: left;\">ACN</td><td style = \"text-align: left;\">Accenture</td><td style = \"text-align: left;\">Information Technology</td></tr><tr><td class = \"rowNumber\" style = \"font-weight: bold; text-align: right;\">7</td><td style = \"text-align: left;\">ATVI</td><td style = \"text-align: left;\">Activision Blizzard</td><td style = \"text-align: left;\">Communication Services</td></tr><tr><td class = \"rowNumber\" style = \"font-weight: bold; text-align: right;\">8</td><td style = \"text-align: left;\">ADM</td><td style = \"text-align: left;\">ADM</td><td style = \"text-align: left;\">Consumer Staples</td></tr><tr><td class = \"rowNumber\" style = \"font-weight: bold; text-align: right;\">9</td><td style = \"text-align: left;\">ADBE</td><td style = \"text-align: left;\">Adobe</td><td style = \"text-align: left;\">Information Technology</td></tr><tr><td class = \"rowNumber\" style = \"font-weight: bold; text-align: right;\">10</td><td style = \"text-align: left;\">AAP</td><td style = \"text-align: left;\">Advance Auto Parts</td><td style = \"text-align: left;\">Consumer Discretionary</td></tr><tr><td class = \"rowNumber\" style = \"font-weight: bold; text-align: right;\">11</td><td style = \"text-align: left;\">AMD</td><td style = \"text-align: left;\">Advanced Micro Devices</td><td style = \"text-align: left;\">Information Technology</td></tr><tr><td class = \"rowNumber\" style = \"font-weight: bold; text-align: right;\">12</td><td style = \"text-align: left;\">AES</td><td style = \"text-align: left;\">AES Corp</td><td style = \"text-align: left;\">Utilities</td></tr><tr><td class = \"rowNumber\" style = \"font-weight: bold; text-align: right;\">13</td><td style = \"text-align: left;\">AFL</td><td style = \"text-align: left;\">Aflac</td><td style = \"text-align: left;\">Financials</td></tr><tr><td style = \"text-align: right;\">&vellip;</td><td style = \"text-align: right;\">&vellip;</td><td style = \"text-align: right;\">&vellip;</td><td style = \"text-align: right;\">&vellip;</td></tr><tr><td class = \"rowNumber\" style = \"font-weight: bold; text-align: right;\">494</td><td style = \"text-align: left;\">WHR</td><td style = \"text-align: left;\">Whirlpool Corporation</td><td style = \"text-align: left;\">Consumer Discretionary</td></tr><tr><td class = \"rowNumber\" style = \"font-weight: bold; text-align: right;\">495</td><td style = \"text-align: left;\">WMB</td><td style = \"text-align: left;\">Williams Companies</td><td style = \"text-align: left;\">Energy</td></tr><tr><td class = \"rowNumber\" style = \"font-weight: bold; text-align: right;\">496</td><td style = \"text-align: left;\">WLTW</td><td style = \"text-align: left;\">Willis Towers Watson</td><td style = \"text-align: left;\">Financials</td></tr><tr><td class = \"rowNumber\" style = \"font-weight: bold; text-align: right;\">497</td><td style = \"text-align: left;\">WYNN</td><td style = \"text-align: left;\">Wynn Resorts</td><td style = \"text-align: left;\">Consumer Discretionary</td></tr><tr><td class = \"rowNumber\" style = \"font-weight: bold; text-align: right;\">498</td><td style = \"text-align: left;\">XEL</td><td style = \"text-align: left;\">Xcel Energy</td><td style = \"text-align: left;\">Utilities</td></tr><tr><td class = \"rowNumber\" style = \"font-weight: bold; text-align: right;\">499</td><td style = \"text-align: left;\">XLNX</td><td style = \"text-align: left;\">Xilinx</td><td style = \"text-align: left;\">Information Technology</td></tr><tr><td class = \"rowNumber\" style = \"font-weight: bold; text-align: right;\">500</td><td style = \"text-align: left;\">XYL</td><td style = \"text-align: left;\">Xylem</td><td style = \"text-align: left;\">Industrials</td></tr><tr><td class = \"rowNumber\" style = \"font-weight: bold; text-align: right;\">501</td><td style = \"text-align: left;\">YUM</td><td style = \"text-align: left;\">Yum! Brands</td><td style = \"text-align: left;\">Consumer Discretionary</td></tr><tr><td class = \"rowNumber\" style = \"font-weight: bold; text-align: right;\">502</td><td style = \"text-align: left;\">ZBRA</td><td style = \"text-align: left;\">Zebra Technologies</td><td style = \"text-align: left;\">Information Technology</td></tr><tr><td class = \"rowNumber\" style = \"font-weight: bold; text-align: right;\">503</td><td style = \"text-align: left;\">ZBH</td><td style = \"text-align: left;\">Zimmer Biomet</td><td style = \"text-align: left;\">Health Care</td></tr><tr><td class = \"rowNumber\" style = \"font-weight: bold; text-align: right;\">504</td><td style = \"text-align: left;\">ZION</td><td style = \"text-align: left;\">Zions Bancorp</td><td style = \"text-align: left;\">Financials</td></tr><tr><td class = \"rowNumber\" style = \"font-weight: bold; text-align: right;\">505</td><td style = \"text-align: left;\">ZTS</td><td style = \"text-align: left;\">Zoetis</td><td style = \"text-align: left;\">Health Care</td></tr></tbody></table></div>"
      ],
      "text/latex": [
       "\\begin{tabular}{r|ccc}\n",
       "\t& Symbol & Name & Sector\\\\\n",
       "\t\\hline\n",
       "\t& String7 & String & String31\\\\\n",
       "\t\\hline\n",
       "\t1 & MMM & 3M & Industrials \\\\\n",
       "\t2 & AOS & A. O. Smith & Industrials \\\\\n",
       "\t3 & ABT & Abbott Laboratories & Health Care \\\\\n",
       "\t4 & ABBV & AbbVie & Health Care \\\\\n",
       "\t5 & ABMD & Abiomed & Health Care \\\\\n",
       "\t6 & ACN & Accenture & Information Technology \\\\\n",
       "\t7 & ATVI & Activision Blizzard & Communication Services \\\\\n",
       "\t8 & ADM & ADM & Consumer Staples \\\\\n",
       "\t9 & ADBE & Adobe & Information Technology \\\\\n",
       "\t10 & AAP & Advance Auto Parts & Consumer Discretionary \\\\\n",
       "\t11 & AMD & Advanced Micro Devices & Information Technology \\\\\n",
       "\t12 & AES & AES Corp & Utilities \\\\\n",
       "\t13 & AFL & Aflac & Financials \\\\\n",
       "\t14 & A & Agilent Technologies & Health Care \\\\\n",
       "\t15 & APD & Air Products \\& Chemicals & Materials \\\\\n",
       "\t16 & AKAM & Akamai Technologies & Information Technology \\\\\n",
       "\t17 & ALK & Alaska Air Group & Industrials \\\\\n",
       "\t18 & ALB & Albemarle Corporation & Materials \\\\\n",
       "\t19 & ARE & Alexandria Real Estate Equities & Real Estate \\\\\n",
       "\t20 & ALGN & Align Technology & Health Care \\\\\n",
       "\t21 & ALLE & Allegion & Industrials \\\\\n",
       "\t22 & LNT & Alliant Energy & Utilities \\\\\n",
       "\t23 & ALL & Allstate Corp & Financials \\\\\n",
       "\t24 & GOOGL & Alphabet (Class A) & Communication Services \\\\\n",
       "\t25 & GOOG & Alphabet (Class C) & Communication Services \\\\\n",
       "\t26 & MO & Altria Group & Consumer Staples \\\\\n",
       "\t27 & AMZN & Amazon & Consumer Discretionary \\\\\n",
       "\t28 & AMCR & Amcor & Materials \\\\\n",
       "\t29 & AEE & Ameren Corp & Utilities \\\\\n",
       "\t30 & AAL & American Airlines Group & Industrials \\\\\n",
       "\t$\\dots$ & $\\dots$ & $\\dots$ & $\\dots$ \\\\\n",
       "\\end{tabular}\n"
      ],
      "text/plain": [
       "\u001b[1m505×3 DataFrame\u001b[0m\n",
       "\u001b[1m Row \u001b[0m│\u001b[1m Symbol  \u001b[0m\u001b[1m Name                   \u001b[0m\u001b[1m Sector                 \u001b[0m\n",
       "     │\u001b[90m String7 \u001b[0m\u001b[90m String                 \u001b[0m\u001b[90m String31               \u001b[0m\n",
       "─────┼─────────────────────────────────────────────────────────\n",
       "   1 │ MMM      3M                      Industrials\n",
       "   2 │ AOS      A. O. Smith             Industrials\n",
       "   3 │ ABT      Abbott Laboratories     Health Care\n",
       "   4 │ ABBV     AbbVie                  Health Care\n",
       "   5 │ ABMD     Abiomed                 Health Care\n",
       "   6 │ ACN      Accenture               Information Technology\n",
       "   7 │ ATVI     Activision Blizzard     Communication Services\n",
       "   8 │ ADM      ADM                     Consumer Staples\n",
       "   9 │ ADBE     Adobe                   Information Technology\n",
       "  10 │ AAP      Advance Auto Parts      Consumer Discretionary\n",
       "  11 │ AMD      Advanced Micro Devices  Information Technology\n",
       "  ⋮  │    ⋮               ⋮                       ⋮\n",
       " 496 │ WLTW     Willis Towers Watson    Financials\n",
       " 497 │ WYNN     Wynn Resorts            Consumer Discretionary\n",
       " 498 │ XEL      Xcel Energy             Utilities\n",
       " 499 │ XLNX     Xilinx                  Information Technology\n",
       " 500 │ XYL      Xylem                   Industrials\n",
       " 501 │ YUM      Yum! Brands             Consumer Discretionary\n",
       " 502 │ ZBRA     Zebra Technologies      Information Technology\n",
       " 503 │ ZBH      Zimmer Biomet           Health Care\n",
       " 504 │ ZION     Zions Bancorp           Financials\n",
       " 505 │ ZTS      Zoetis                  Health Care\n",
       "\u001b[36m                                               484 rows omitted\u001b[0m"
      ]
     },
     "execution_count": 48,
     "metadata": {},
     "output_type": "execute_result"
    }
   ],
   "source": [
    "firm_mapping = MyFirmMappingDataSet()"
   ]
  },
  {
   "cell_type": "code",
   "execution_count": 34,
   "id": "836bd589-a9de-4073-be8a-4f8751b005bc",
   "metadata": {
    "tags": []
   },
   "outputs": [],
   "source": [
    "ticker_lookup_dictionary = Dict{String,Int64}();\n",
    "number_of_map_elements = nrow(firm_mapping);\n",
    "for i ∈ 1:number_of_map_elements\n",
    "    \n",
    "    ticker = firm_mapping[i,:Symbol];\n",
    "    firm_index = findfirst(x->x==\n",
    "    \n",
    "    ticker_lookup_dictionary[ticker] = i;\n",
    "end"
   ]
  },
  {
   "cell_type": "code",
   "execution_count": 39,
   "id": "61ed21d6-60ae-453b-aa06-bbe95cf9b51c",
   "metadata": {
    "tags": []
   },
   "outputs": [],
   "source": [
    "all_return_matrix = log_return_matrix(dataset, all_firms; Δt = (1/252));\n",
    "all_covariance_matrix = (1/100)*cov(all_return_matrix);\n",
    "all_expected_return = mean(all_return_matrix, dims=1) |> vec |> x-> exp.(x) .- 1;"
   ]
  },
  {
   "cell_type": "code",
   "execution_count": 42,
   "id": "0b364bba-05bd-4ae3-b14c-e5200f57bc33",
   "metadata": {
    "tags": []
   },
   "outputs": [
    {
     "data": {
      "text/plain": [
       "0.15697450572636873"
      ]
     },
     "execution_count": 42,
     "metadata": {},
     "output_type": "execute_result"
    }
   ],
   "source": [
    "all_expected_return[46]"
   ]
  },
  {
   "cell_type": "markdown",
   "id": "b79b78fc-1a2b-47b4-9f84-9e0480b9bdb1",
   "metadata": {},
   "source": [
    "### Set constants\n",
    "Finally, we set some constant values that are used in the computation of the efficient frontier and the capital allocation line:"
   ]
  },
  {
   "cell_type": "code",
   "execution_count": 7,
   "id": "bd310871-2df2-43c8-b17d-ce898553c64e",
   "metadata": {
    "tags": []
   },
   "outputs": [],
   "source": [
    "number_of_firms = 10;\n",
    "initial = zeros(number_of_firms);\n",
    "initial[1] = 1.0;\n",
    "bounds = zeros(number_of_firms,2);\n",
    "bounds[:,2] .= 1.0;\n",
    "risk_free_rate = 0.045\n",
    "number_of_points = 20;"
   ]
  },
  {
   "cell_type": "markdown",
   "id": "b7d76a72-2e57-41d1-a620-6bb158f4c16b",
   "metadata": {},
   "source": [
    "## Task 1: Compute the log return array and covariance matrix for your selection of stocks"
   ]
  },
  {
   "cell_type": "markdown",
   "id": "fa387502-39f2-45c3-a3d8-1a1a2da07e72",
   "metadata": {},
   "source": [
    "Each firm is assigned an `index` (the `keys` of the `dataset` dictionary). Let's specify a list of `tickers` and look up the corresponding `firm_index` from the `ticker_lookup_dictionary`. We'll hold the indexes of the firms we are interested in in the `firms` array:"
   ]
  },
  {
   "cell_type": "code",
   "execution_count": 28,
   "id": "f2b4915f-21c8-4f98-8148-f116fe01bf42",
   "metadata": {
    "tags": []
   },
   "outputs": [
    {
     "name": "stdout",
     "output_type": "stream",
     "text": [
      "(firm_index, ticker) = (46, \"AAPL\")\n",
      "(firm_index, ticker) = (487, \"WFC\")\n",
      "(firm_index, ticker) = (11, \"AMD\")\n"
     ]
    }
   ],
   "source": [
    "my_list_of_tickers = [\"AAPL\", \"WFC\", \"AMD\"];\n",
    "my_list_of_firms = Array{Int64,1}();\n",
    "for ticker ∈ my_list_of_tickers\n",
    "    firm_index = ticker_lookup_dictionary[ticker];\n",
    "    \n",
    "    @show (firm_index, ticker)\n",
    "    \n",
    "    push!(my_list_of_firms, firm_index)\n",
    "end"
   ]
  },
  {
   "cell_type": "code",
   "execution_count": 46,
   "id": "df014d8e-ab91-4e73-b236-ceaea46b4c75",
   "metadata": {
    "tags": []
   },
   "outputs": [],
   "source": [
    "my_expected_return_array = Array{Float64,1}();\n",
    "for i ∈ eachindex(my_list_of_firms)\n",
    "    \n",
    "    firm_index = findfirst(x->x==my_list_of_firms[i], all_firms)\n",
    "    expected_value = all_expected_return[firm_index]\n",
    "    push!(my_expected_return_array, expected_value)\n",
    "end"
   ]
  },
  {
   "cell_type": "code",
   "execution_count": 47,
   "id": "59695873-7fac-4c96-8ce6-aeb8c4520bc4",
   "metadata": {
    "tags": []
   },
   "outputs": [
    {
     "data": {
      "text/plain": [
       "3-element Vector{Float64}:\n",
       "  0.2448236308641849\n",
       " -0.07734788985258878\n",
       "  0.40686522002755066"
      ]
     },
     "execution_count": 47,
     "metadata": {},
     "output_type": "execute_result"
    }
   ],
   "source": [
    "my_expected_return_array"
   ]
  },
  {
   "cell_type": "markdown",
   "id": "0f1b50da-9536-42f8-9e18-010ce16c824c",
   "metadata": {},
   "source": [
    "## Task 2: Compute the efficient frontier for your collection of `N = 10` stocks\n",
    "Fill me in"
   ]
  },
  {
   "cell_type": "markdown",
   "id": "6eaa5f34-b7ba-4161-974e-9ca941592689",
   "metadata": {},
   "source": [
    "## Task 3: Compute the capital allocation line\n",
    "Fill me in"
   ]
  },
  {
   "cell_type": "markdown",
   "id": "615b90fb-2be6-4e9d-b97c-a0da428095ab",
   "metadata": {},
   "source": [
    "## Task 4: Compute your operating point\n",
    "Fill me in"
   ]
  },
  {
   "cell_type": "code",
   "execution_count": null,
   "id": "27bc43c9-98ff-4f89-b560-f40653716656",
   "metadata": {},
   "outputs": [],
   "source": []
  }
 ],
 "metadata": {
  "kernelspec": {
   "display_name": "Julia 1.9.3",
   "language": "julia",
   "name": "julia-1.9"
  },
  "language_info": {
   "file_extension": ".jl",
   "mimetype": "application/julia",
   "name": "julia",
   "version": "1.9.3"
  }
 },
 "nbformat": 4,
 "nbformat_minor": 5
}
