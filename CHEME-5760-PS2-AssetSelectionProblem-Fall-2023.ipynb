{
 "cells": [
  {
   "cell_type": "markdown",
   "id": "b591adc4-0afa-4cd6-9e9d-b408fb7edb7e",
   "metadata": {},
   "source": [
    "# PS2: Selection of an Uncorrelated Tangent Portfolio\n",
    "Fill me in.\n",
    "\n",
    "## Problem statement\n",
    "* Task 1: Compute the log return array and covariance matrix for a collection of `N = 10` stocks that you select from the historical dataset \n",
    "* Task 2: Compute the efficient frontier for your collection of `N = 10` stocks\n",
    "* Task 3: Compute the capital allocation line connecting the risk-free asset and the tangent portfolio\n",
    "* Task 4: Use your estimated value for the risk aversion parameter `A` to estimate your investment allocation along the capital allocation line"
   ]
  },
  {
   "cell_type": "markdown",
   "id": "714c5346-c7ac-44f1-a5bc-a58d77ce90d3",
   "metadata": {},
   "source": [
    "## Setup"
   ]
  },
  {
   "cell_type": "code",
   "execution_count": 4,
   "id": "5b2b39ba-7a95-420d-8641-3d85cd4cae87",
   "metadata": {
    "tags": []
   },
   "outputs": [
    {
     "name": "stderr",
     "output_type": "stream",
     "text": [
      "\u001b[32m\u001b[1m    Updating\u001b[22m\u001b[39m git-repo `https://github.com/varnerlab/VLDecisionsPackage.jl.git`\n",
      "\u001b[32m\u001b[1m   Resolving\u001b[22m\u001b[39m package versions...\n",
      "\u001b[32m\u001b[1m  No Changes\u001b[22m\u001b[39m to `~/Desktop/julia_work/CHEME-5760-PS2-AssetSelectionProblem-Fall-2023/Project.toml`\n",
      "\u001b[32m\u001b[1m  No Changes\u001b[22m\u001b[39m to `~/Desktop/julia_work/CHEME-5760-PS2-AssetSelectionProblem-Fall-2023/Manifest.toml`\n",
      "\u001b[32m\u001b[1m  Activating\u001b[22m\u001b[39m project at `~/Desktop/julia_work/CHEME-5760-PS2-AssetSelectionProblem-Fall-2023`\n",
      "\u001b[32m\u001b[1m    Updating\u001b[22m\u001b[39m registry at `~/.julia/registries/General.toml`\n",
      "\u001b[32m\u001b[1m    Updating\u001b[22m\u001b[39m git-repo `https://github.com/varnerlab/VLDecisionsPackage.jl.git`\n",
      "\u001b[32m\u001b[1m  No Changes\u001b[22m\u001b[39m to `~/Desktop/julia_work/CHEME-5760-PS2-AssetSelectionProblem-Fall-2023/Project.toml`\n",
      "\u001b[32m\u001b[1m  No Changes\u001b[22m\u001b[39m to `~/Desktop/julia_work/CHEME-5760-PS2-AssetSelectionProblem-Fall-2023/Manifest.toml`\n"
     ]
    }
   ],
   "source": [
    "include(\"Include.jl\");"
   ]
  },
  {
   "cell_type": "markdown",
   "id": "776aacc5-dd2a-4962-8f94-2c8ef0944208",
   "metadata": {},
   "source": [
    "### Load historical dataset\n",
    "We gathered a daily open-high-low-close `dataset` for each firm in the [S&P500](https://en.wikipedia.org/wiki/S%26P_500) for the past five-trading years (a maximum of `1256` data points per firm). However, not all the firms in the `dataset` have the maximum number of trading days, i.e., some firms are missing information for various reasons; perhaps they were acquired, merged, or delisted, etc. We will exclude these firms from the `dataset`.\n",
    "\n",
    "We load the price `dataset` by calling the `MyPortfolioDataSet()` function:"
   ]
  },
  {
   "cell_type": "code",
   "execution_count": 59,
   "id": "04e0aa3d-89c1-4613-b5da-ef27c5e8bd98",
   "metadata": {
    "tags": []
   },
   "outputs": [
    {
     "data": {
      "text/html": [
       "<div><div style = \"float: left;\"><span>1256×7 DataFrame</span></div><div style = \"float: right;\"><span style = \"font-style: italic;\">1231 rows omitted</span></div><div style = \"clear: both;\"></div></div><div class = \"data-frame\" style = \"overflow-x: scroll;\"><table class = \"data-frame\" style = \"margin-bottom: 6px;\"><thead><tr class = \"header\"><th class = \"rowNumber\" style = \"font-weight: bold; text-align: right;\">Row</th><th style = \"text-align: left;\">volume</th><th style = \"text-align: left;\">volume_weighted_average_price</th><th style = \"text-align: left;\">open</th><th style = \"text-align: left;\">close</th><th style = \"text-align: left;\">high</th><th style = \"text-align: left;\">low</th><th style = \"text-align: left;\">number_of_transactions</th></tr><tr class = \"subheader headerLastRow\"><th class = \"rowNumber\" style = \"font-weight: bold; text-align: right;\"></th><th title = \"Float64\" style = \"text-align: left;\">Float64</th><th title = \"Float64\" style = \"text-align: left;\">Float64</th><th title = \"Float64\" style = \"text-align: left;\">Float64</th><th title = \"Float64\" style = \"text-align: left;\">Float64</th><th title = \"Float64\" style = \"text-align: left;\">Float64</th><th title = \"Float64\" style = \"text-align: left;\">Float64</th><th title = \"Int64\" style = \"text-align: left;\">Int64</th></tr></thead><tbody><tr><td class = \"rowNumber\" style = \"font-weight: bold; text-align: right;\">1</td><td style = \"text-align: right;\">2.3287e6</td><td style = \"text-align: right;\">71.975</td><td style = \"text-align: right;\">71.77</td><td style = \"text-align: right;\">72.1</td><td style = \"text-align: right;\">72.18</td><td style = \"text-align: right;\">71.34</td><td style = \"text-align: right;\">18833</td></tr><tr><td class = \"rowNumber\" style = \"font-weight: bold; text-align: right;\">2</td><td style = \"text-align: right;\">2.53411e6</td><td style = \"text-align: right;\">72.5642</td><td style = \"text-align: right;\">72.75</td><td style = \"text-align: right;\">72.53</td><td style = \"text-align: right;\">72.9128</td><td style = \"text-align: right;\">72.26</td><td style = \"text-align: right;\">18670</td></tr><tr><td class = \"rowNumber\" style = \"font-weight: bold; text-align: right;\">3</td><td style = \"text-align: right;\">2.16626e6</td><td style = \"text-align: right;\">73.4262</td><td style = \"text-align: right;\">72.83</td><td style = \"text-align: right;\">73.36</td><td style = \"text-align: right;\">73.92</td><td style = \"text-align: right;\">72.57</td><td style = \"text-align: right;\">15458</td></tr><tr><td class = \"rowNumber\" style = \"font-weight: bold; text-align: right;\">4</td><td style = \"text-align: right;\">3.63175e6</td><td style = \"text-align: right;\">74.1492</td><td style = \"text-align: right;\">73.43</td><td style = \"text-align: right;\">74.24</td><td style = \"text-align: right;\">74.42</td><td style = \"text-align: right;\">73.1607</td><td style = \"text-align: right;\">17579</td></tr><tr><td class = \"rowNumber\" style = \"font-weight: bold; text-align: right;\">5</td><td style = \"text-align: right;\">2.7221e6</td><td style = \"text-align: right;\">75.1605</td><td style = \"text-align: right;\">74.7</td><td style = \"text-align: right;\">75.11</td><td style = \"text-align: right;\">75.475</td><td style = \"text-align: right;\">74.465</td><td style = \"text-align: right;\">22500</td></tr><tr><td class = \"rowNumber\" style = \"font-weight: bold; text-align: right;\">6</td><td style = \"text-align: right;\">2.25761e6</td><td style = \"text-align: right;\">73.7219</td><td style = \"text-align: right;\">74.58</td><td style = \"text-align: right;\">73.91</td><td style = \"text-align: right;\">74.8</td><td style = \"text-align: right;\">73.28</td><td style = \"text-align: right;\">18808</td></tr><tr><td class = \"rowNumber\" style = \"font-weight: bold; text-align: right;\">7</td><td style = \"text-align: right;\">1.62933e6</td><td style = \"text-align: right;\">74.4516</td><td style = \"text-align: right;\">74.05</td><td style = \"text-align: right;\">74.59</td><td style = \"text-align: right;\">74.68</td><td style = \"text-align: right;\">73.72</td><td style = \"text-align: right;\">13584</td></tr><tr><td class = \"rowNumber\" style = \"font-weight: bold; text-align: right;\">8</td><td style = \"text-align: right;\">1.91578e6</td><td style = \"text-align: right;\">75.3884</td><td style = \"text-align: right;\">74.91</td><td style = \"text-align: right;\">75.39</td><td style = \"text-align: right;\">75.69</td><td style = \"text-align: right;\">74.77</td><td style = \"text-align: right;\">15920</td></tr><tr><td class = \"rowNumber\" style = \"font-weight: bold; text-align: right;\">9</td><td style = \"text-align: right;\">2.59929e6</td><td style = \"text-align: right;\">75.7203</td><td style = \"text-align: right;\">76.06</td><td style = \"text-align: right;\">75.54</td><td style = \"text-align: right;\">76.4</td><td style = \"text-align: right;\">75.21</td><td style = \"text-align: right;\">21597</td></tr><tr><td class = \"rowNumber\" style = \"font-weight: bold; text-align: right;\">10</td><td style = \"text-align: right;\">2.76979e6</td><td style = \"text-align: right;\">76.5804</td><td style = \"text-align: right;\">75.81</td><td style = \"text-align: right;\">76.77</td><td style = \"text-align: right;\">77.03</td><td style = \"text-align: right;\">75.39</td><td style = \"text-align: right;\">17213</td></tr><tr><td class = \"rowNumber\" style = \"font-weight: bold; text-align: right;\">11</td><td style = \"text-align: right;\">2.58912e6</td><td style = \"text-align: right;\">76.2496</td><td style = \"text-align: right;\">76.65</td><td style = \"text-align: right;\">76.33</td><td style = \"text-align: right;\">76.65</td><td style = \"text-align: right;\">75.85</td><td style = \"text-align: right;\">15477</td></tr><tr><td class = \"rowNumber\" style = \"font-weight: bold; text-align: right;\">12</td><td style = \"text-align: right;\">4.8298e6</td><td style = \"text-align: right;\">76.5506</td><td style = \"text-align: right;\">76.69</td><td style = \"text-align: right;\">76.62</td><td style = \"text-align: right;\">76.91</td><td style = \"text-align: right;\">76.22</td><td style = \"text-align: right;\">18466</td></tr><tr><td class = \"rowNumber\" style = \"font-weight: bold; text-align: right;\">13</td><td style = \"text-align: right;\">4.1953e6</td><td style = \"text-align: right;\">77.0028</td><td style = \"text-align: right;\">76.67</td><td style = \"text-align: right;\">77.48</td><td style = \"text-align: right;\">77.58</td><td style = \"text-align: right;\">76.62</td><td style = \"text-align: right;\">16335</td></tr><tr><td style = \"text-align: right;\">&vellip;</td><td style = \"text-align: right;\">&vellip;</td><td style = \"text-align: right;\">&vellip;</td><td style = \"text-align: right;\">&vellip;</td><td style = \"text-align: right;\">&vellip;</td><td style = \"text-align: right;\">&vellip;</td><td style = \"text-align: right;\">&vellip;</td><td style = \"text-align: right;\">&vellip;</td></tr><tr><td class = \"rowNumber\" style = \"font-weight: bold; text-align: right;\">1245</td><td style = \"text-align: right;\">2.182e6</td><td style = \"text-align: right;\">153.023</td><td style = \"text-align: right;\">153.77</td><td style = \"text-align: right;\">151.78</td><td style = \"text-align: right;\">156.105</td><td style = \"text-align: right;\">151.23</td><td style = \"text-align: right;\">31716</td></tr><tr><td class = \"rowNumber\" style = \"font-weight: bold; text-align: right;\">1246</td><td style = \"text-align: right;\">1.94739e6</td><td style = \"text-align: right;\">149.324</td><td style = \"text-align: right;\">149.51</td><td style = \"text-align: right;\">148.71</td><td style = \"text-align: right;\">151.35</td><td style = \"text-align: right;\">148.54</td><td style = \"text-align: right;\">32699</td></tr><tr><td class = \"rowNumber\" style = \"font-weight: bold; text-align: right;\">1247</td><td style = \"text-align: right;\">5.21603e6</td><td style = \"text-align: right;\">144.975</td><td style = \"text-align: right;\">147.31</td><td style = \"text-align: right;\">144.46</td><td style = \"text-align: right;\">147.57</td><td style = \"text-align: right;\">143.92</td><td style = \"text-align: right;\">45702</td></tr><tr><td class = \"rowNumber\" style = \"font-weight: bold; text-align: right;\">1248</td><td style = \"text-align: right;\">1.83377e6</td><td style = \"text-align: right;\">143.19</td><td style = \"text-align: right;\">143.84</td><td style = \"text-align: right;\">143.19</td><td style = \"text-align: right;\">144.436</td><td style = \"text-align: right;\">142.01</td><td style = \"text-align: right;\">31503</td></tr><tr><td class = \"rowNumber\" style = \"font-weight: bold; text-align: right;\">1249</td><td style = \"text-align: right;\">2.04599e6</td><td style = \"text-align: right;\">142.401</td><td style = \"text-align: right;\">142.71</td><td style = \"text-align: right;\">142.47</td><td style = \"text-align: right;\">143.095</td><td style = \"text-align: right;\">140.76</td><td style = \"text-align: right;\">31995</td></tr><tr><td class = \"rowNumber\" style = \"font-weight: bold; text-align: right;\">1250</td><td style = \"text-align: right;\">1.64745e6</td><td style = \"text-align: right;\">144.582</td><td style = \"text-align: right;\">143.22</td><td style = \"text-align: right;\">144.92</td><td style = \"text-align: right;\">146.145</td><td style = \"text-align: right;\">142.78</td><td style = \"text-align: right;\">32955</td></tr><tr><td class = \"rowNumber\" style = \"font-weight: bold; text-align: right;\">1251</td><td style = \"text-align: right;\">1.54211e6</td><td style = \"text-align: right;\">143.832</td><td style = \"text-align: right;\">143.71</td><td style = \"text-align: right;\">145.03</td><td style = \"text-align: right;\">145.095</td><td style = \"text-align: right;\">141.85</td><td style = \"text-align: right;\">28364</td></tr><tr><td class = \"rowNumber\" style = \"font-weight: bold; text-align: right;\">1252</td><td style = \"text-align: right;\">1.01786e6</td><td style = \"text-align: right;\">145.237</td><td style = \"text-align: right;\">144.51</td><td style = \"text-align: right;\">145.76</td><td style = \"text-align: right;\">145.892</td><td style = \"text-align: right;\">143.54</td><td style = \"text-align: right;\">20030</td></tr><tr><td class = \"rowNumber\" style = \"font-weight: bold; text-align: right;\">1253</td><td style = \"text-align: right;\">957871.0</td><td style = \"text-align: right;\">145.322</td><td style = \"text-align: right;\">145.91</td><td style = \"text-align: right;\">145.3</td><td style = \"text-align: right;\">146.147</td><td style = \"text-align: right;\">143.57</td><td style = \"text-align: right;\">19294</td></tr><tr><td class = \"rowNumber\" style = \"font-weight: bold; text-align: right;\">1254</td><td style = \"text-align: right;\">1.44392e6</td><td style = \"text-align: right;\">144.41</td><td style = \"text-align: right;\">145.18</td><td style = \"text-align: right;\">143.83</td><td style = \"text-align: right;\">146.64</td><td style = \"text-align: right;\">143.77</td><td style = \"text-align: right;\">19669</td></tr><tr><td class = \"rowNumber\" style = \"font-weight: bold; text-align: right;\">1255</td><td style = \"text-align: right;\">1.29885e6</td><td style = \"text-align: right;\">147.959</td><td style = \"text-align: right;\">145.2</td><td style = \"text-align: right;\">148.15</td><td style = \"text-align: right;\">148.51</td><td style = \"text-align: right;\">145.138</td><td style = \"text-align: right;\">21072</td></tr><tr><td class = \"rowNumber\" style = \"font-weight: bold; text-align: right;\">1256</td><td style = \"text-align: right;\">1.24953e6</td><td style = \"text-align: right;\">146.129</td><td style = \"text-align: right;\">147.2</td><td style = \"text-align: right;\">146.55</td><td style = \"text-align: right;\">147.79</td><td style = \"text-align: right;\">144.74</td><td style = \"text-align: right;\">22283</td></tr></tbody></table></div>"
      ],
      "text/latex": [
       "\\begin{tabular}{r|ccccccc}\n",
       "\t& volume & volume\\_weighted\\_average\\_price & open & close & high & low & number\\_of\\_transactions\\\\\n",
       "\t\\hline\n",
       "\t& Float64 & Float64 & Float64 & Float64 & Float64 & Float64 & Int64\\\\\n",
       "\t\\hline\n",
       "\t1 & 2.3287e6 & 71.975 & 71.77 & 72.1 & 72.18 & 71.34 & 18833 \\\\\n",
       "\t2 & 2.53411e6 & 72.5642 & 72.75 & 72.53 & 72.9128 & 72.26 & 18670 \\\\\n",
       "\t3 & 2.16626e6 & 73.4262 & 72.83 & 73.36 & 73.92 & 72.57 & 15458 \\\\\n",
       "\t4 & 3.63175e6 & 74.1492 & 73.43 & 74.24 & 74.42 & 73.1607 & 17579 \\\\\n",
       "\t5 & 2.7221e6 & 75.1605 & 74.7 & 75.11 & 75.475 & 74.465 & 22500 \\\\\n",
       "\t6 & 2.25761e6 & 73.7219 & 74.58 & 73.91 & 74.8 & 73.28 & 18808 \\\\\n",
       "\t7 & 1.62933e6 & 74.4516 & 74.05 & 74.59 & 74.68 & 73.72 & 13584 \\\\\n",
       "\t8 & 1.91578e6 & 75.3884 & 74.91 & 75.39 & 75.69 & 74.77 & 15920 \\\\\n",
       "\t9 & 2.59929e6 & 75.7203 & 76.06 & 75.54 & 76.4 & 75.21 & 21597 \\\\\n",
       "\t10 & 2.76979e6 & 76.5804 & 75.81 & 76.77 & 77.03 & 75.39 & 17213 \\\\\n",
       "\t11 & 2.58912e6 & 76.2496 & 76.65 & 76.33 & 76.65 & 75.85 & 15477 \\\\\n",
       "\t12 & 4.8298e6 & 76.5506 & 76.69 & 76.62 & 76.91 & 76.22 & 18466 \\\\\n",
       "\t13 & 4.1953e6 & 77.0028 & 76.67 & 77.48 & 77.58 & 76.62 & 16335 \\\\\n",
       "\t14 & 2.26433e6 & 77.5639 & 77.3 & 77.59 & 78.32 & 76.97 & 15277 \\\\\n",
       "\t15 & 2.58578e6 & 78.0921 & 78.16 & 78.33 & 78.51 & 77.6 & 18345 \\\\\n",
       "\t16 & 2.32727e6 & 79.1153 & 78.47 & 79.25 & 79.38 & 78.345 & 20143 \\\\\n",
       "\t17 & 2.53293e6 & 79.7874 & 79.49 & 80.09 & 80.13 & 79.38 & 17065 \\\\\n",
       "\t18 & 2.66258e6 & 79.3575 & 79.81 & 79.18 & 79.95 & 79.11 & 18664 \\\\\n",
       "\t19 & 3.80883e6 & 78.344 & 78.44 & 78.35 & 78.69 & 77.91 & 27313 \\\\\n",
       "\t20 & 4.13649e6 & 77.1354 & 78.49 & 76.73 & 78.77 & 76.54 & 31713 \\\\\n",
       "\t21 & 2.98238e6 & 77.6156 & 76.84 & 77.82 & 78.27 & 76.69 & 25795 \\\\\n",
       "\t22 & 2.59523e6 & 77.4309 & 77.53 & 76.78 & 78.12 & 76.73 & 20370 \\\\\n",
       "\t23 & 2.96223e6 & 74.9166 & 76.64 & 73.83 & 76.92 & 73.18 & 25766 \\\\\n",
       "\t24 & 4.92462e6 & 73.1412 & 72.74 & 73.27 & 74.56 & 72.13 & 41868 \\\\\n",
       "\t25 & 4.53521e6 & 74.0658 & 72.7 & 73.86 & 75.0 & 72.69 & 29535 \\\\\n",
       "\t26 & 2.73017e6 & 72.4092 & 73.96 & 71.51 & 74.56 & 71.5 & 22668 \\\\\n",
       "\t27 & 3.29675e6 & 71.6063 & 72.23 & 72.35 & 72.88 & 70.2 & 28218 \\\\\n",
       "\t28 & 3.82816e6 & 73.3156 & 72.94 & 73.19 & 74.04 & 72.6 & 21675 \\\\\n",
       "\t29 & 2.41644e6 & 73.3472 & 73.11 & 73.24 & 73.79 & 72.96 & 15249 \\\\\n",
       "\t30 & 2.94795e6 & 73.9203 & 72.79 & 74.46 & 74.57 & 72.78 & 25876 \\\\\n",
       "\t$\\dots$ & $\\dots$ & $\\dots$ & $\\dots$ & $\\dots$ & $\\dots$ & $\\dots$ & $\\dots$ \\\\\n",
       "\\end{tabular}\n"
      ],
      "text/plain": [
       "\u001b[1m1256×7 DataFrame\u001b[0m\n",
       "\u001b[1m  Row \u001b[0m│\u001b[1m volume         \u001b[0m\u001b[1m volume_weighted_average_price \u001b[0m\u001b[1m open    \u001b[0m\u001b[1m close   \u001b[0m\u001b[1m high \u001b[0m ⋯\n",
       "      │\u001b[90m Float64        \u001b[0m\u001b[90m Float64                       \u001b[0m\u001b[90m Float64 \u001b[0m\u001b[90m Float64 \u001b[0m\u001b[90m Float\u001b[0m ⋯\n",
       "──────┼─────────────────────────────────────────────────────────────────────────\n",
       "    1 │      2.3287e6                         71.975     71.77    72.1    72.1 ⋯\n",
       "    2 │      2.53411e6                        72.5642    72.75    72.53   72.9\n",
       "    3 │      2.16626e6                        73.4262    72.83    73.36   73.9\n",
       "    4 │      3.63175e6                        74.1492    73.43    74.24   74.4\n",
       "    5 │      2.7221e6                         75.1605    74.7     75.11   75.4 ⋯\n",
       "    6 │      2.25761e6                        73.7219    74.58    73.91   74.8\n",
       "    7 │      1.62933e6                        74.4516    74.05    74.59   74.6\n",
       "    8 │      1.91578e6                        75.3884    74.91    75.39   75.6\n",
       "    9 │      2.59929e6                        75.7203    76.06    75.54   76.4 ⋯\n",
       "   10 │      2.76979e6                        76.5804    75.81    76.77   77.0\n",
       "   11 │      2.58912e6                        76.2496    76.65    76.33   76.6\n",
       "  ⋮   │       ⋮                       ⋮                   ⋮        ⋮        ⋮  ⋱\n",
       " 1247 │      5.21603e6                       144.975    147.31   144.46  147.5\n",
       " 1248 │      1.83377e6                       143.19     143.84   143.19  144.4 ⋯\n",
       " 1249 │      2.04599e6                       142.401    142.71   142.47  143.0\n",
       " 1250 │      1.64745e6                       144.582    143.22   144.92  146.1\n",
       " 1251 │      1.54211e6                       143.832    143.71   145.03  145.0\n",
       " 1252 │      1.01786e6                       145.237    144.51   145.76  145.8 ⋯\n",
       " 1253 │ 957871.0                             145.322    145.91   145.3   146.1\n",
       " 1254 │      1.44392e6                       144.41     145.18   143.83  146.6\n",
       " 1255 │      1.29885e6                       147.959    145.2    148.15  148.5\n",
       " 1256 │      1.24953e6                       146.129    147.2    146.55  147.7 ⋯\n",
       "\u001b[36m                                                 3 columns and 1235 rows omitted\u001b[0m"
      ]
     },
     "execution_count": 59,
     "metadata": {},
     "output_type": "execute_result"
    }
   ],
   "source": [
    "dataset = MyPortfolioDataSet() |> x-> x[\"dataset\"];"
   ]
  },
  {
   "cell_type": "code",
   "execution_count": 9,
   "id": "d7b380fb-0be0-4c59-8c0b-ef03d1994503",
   "metadata": {
    "tags": []
   },
   "outputs": [],
   "source": [
    "all_firms = keys(dataset) |> collect |> sort;"
   ]
  },
  {
   "cell_type": "code",
   "execution_count": 51,
   "id": "1f4ef776-0ae5-4af0-9204-6c3e06c54932",
   "metadata": {
    "tags": []
   },
   "outputs": [
    {
     "data": {
      "text/plain": [
       "458-element Vector{Int64}:\n",
       "   1\n",
       "   2\n",
       "   3\n",
       "   4\n",
       "   6\n",
       "   7\n",
       "   8\n",
       "   9\n",
       "  10\n",
       "  11\n",
       "  12\n",
       "  13\n",
       "  14\n",
       "   ⋮\n",
       " 492\n",
       " 493\n",
       " 494\n",
       " 495\n",
       " 497\n",
       " 498\n",
       " 500\n",
       " 501\n",
       " 502\n",
       " 503\n",
       " 504\n",
       " 505"
      ]
     },
     "execution_count": 51,
     "metadata": {},
     "output_type": "execute_result"
    }
   ],
   "source": [
    "all_firms"
   ]
  },
  {
   "cell_type": "markdown",
   "id": "7727a1f6-5952-40e4-97c3-2d8563600e4c",
   "metadata": {},
   "source": [
    "While it is sometimes convenient to work with the data using the `firm_index`, often we want to specify the [ticker symbol](https://en.wikipedia.org/wiki/Ticker_symbol#:~:text=A%20ticker%20symbol%20or%20stock,on%20a%20particular%20stock%20market.) instead. To facilitate this, let's load a mapping between the `firm_index` and the ticker symbols using the `MyFirmMappingDataSet()` function:"
   ]
  },
  {
   "cell_type": "code",
   "execution_count": 48,
   "id": "7af6103a-d54e-4d15-b966-0b32634a5815",
   "metadata": {
    "tags": []
   },
   "outputs": [
    {
     "data": {
      "text/html": [
       "<div><div style = \"float: left;\"><span>505×3 DataFrame</span></div><div style = \"float: right;\"><span style = \"font-style: italic;\">480 rows omitted</span></div><div style = \"clear: both;\"></div></div><div class = \"data-frame\" style = \"overflow-x: scroll;\"><table class = \"data-frame\" style = \"margin-bottom: 6px;\"><thead><tr class = \"header\"><th class = \"rowNumber\" style = \"font-weight: bold; text-align: right;\">Row</th><th style = \"text-align: left;\">Symbol</th><th style = \"text-align: left;\">Name</th><th style = \"text-align: left;\">Sector</th></tr><tr class = \"subheader headerLastRow\"><th class = \"rowNumber\" style = \"font-weight: bold; text-align: right;\"></th><th title = \"String7\" style = \"text-align: left;\">String7</th><th title = \"String\" style = \"text-align: left;\">String</th><th title = \"String31\" style = \"text-align: left;\">String31</th></tr></thead><tbody><tr><td class = \"rowNumber\" style = \"font-weight: bold; text-align: right;\">1</td><td style = \"text-align: left;\">MMM</td><td style = \"text-align: left;\">3M</td><td style = \"text-align: left;\">Industrials</td></tr><tr><td class = \"rowNumber\" style = \"font-weight: bold; text-align: right;\">2</td><td style = \"text-align: left;\">AOS</td><td style = \"text-align: left;\">A. O. Smith</td><td style = \"text-align: left;\">Industrials</td></tr><tr><td class = \"rowNumber\" style = \"font-weight: bold; text-align: right;\">3</td><td style = \"text-align: left;\">ABT</td><td style = \"text-align: left;\">Abbott Laboratories</td><td style = \"text-align: left;\">Health Care</td></tr><tr><td class = \"rowNumber\" style = \"font-weight: bold; text-align: right;\">4</td><td style = \"text-align: left;\">ABBV</td><td style = \"text-align: left;\">AbbVie</td><td style = \"text-align: left;\">Health Care</td></tr><tr><td class = \"rowNumber\" style = \"font-weight: bold; text-align: right;\">5</td><td style = \"text-align: left;\">ABMD</td><td style = \"text-align: left;\">Abiomed</td><td style = \"text-align: left;\">Health Care</td></tr><tr><td class = \"rowNumber\" style = \"font-weight: bold; text-align: right;\">6</td><td style = \"text-align: left;\">ACN</td><td style = \"text-align: left;\">Accenture</td><td style = \"text-align: left;\">Information Technology</td></tr><tr><td class = \"rowNumber\" style = \"font-weight: bold; text-align: right;\">7</td><td style = \"text-align: left;\">ATVI</td><td style = \"text-align: left;\">Activision Blizzard</td><td style = \"text-align: left;\">Communication Services</td></tr><tr><td class = \"rowNumber\" style = \"font-weight: bold; text-align: right;\">8</td><td style = \"text-align: left;\">ADM</td><td style = \"text-align: left;\">ADM</td><td style = \"text-align: left;\">Consumer Staples</td></tr><tr><td class = \"rowNumber\" style = \"font-weight: bold; text-align: right;\">9</td><td style = \"text-align: left;\">ADBE</td><td style = \"text-align: left;\">Adobe</td><td style = \"text-align: left;\">Information Technology</td></tr><tr><td class = \"rowNumber\" style = \"font-weight: bold; text-align: right;\">10</td><td style = \"text-align: left;\">AAP</td><td style = \"text-align: left;\">Advance Auto Parts</td><td style = \"text-align: left;\">Consumer Discretionary</td></tr><tr><td class = \"rowNumber\" style = \"font-weight: bold; text-align: right;\">11</td><td style = \"text-align: left;\">AMD</td><td style = \"text-align: left;\">Advanced Micro Devices</td><td style = \"text-align: left;\">Information Technology</td></tr><tr><td class = \"rowNumber\" style = \"font-weight: bold; text-align: right;\">12</td><td style = \"text-align: left;\">AES</td><td style = \"text-align: left;\">AES Corp</td><td style = \"text-align: left;\">Utilities</td></tr><tr><td class = \"rowNumber\" style = \"font-weight: bold; text-align: right;\">13</td><td style = \"text-align: left;\">AFL</td><td style = \"text-align: left;\">Aflac</td><td style = \"text-align: left;\">Financials</td></tr><tr><td style = \"text-align: right;\">&vellip;</td><td style = \"text-align: right;\">&vellip;</td><td style = \"text-align: right;\">&vellip;</td><td style = \"text-align: right;\">&vellip;</td></tr><tr><td class = \"rowNumber\" style = \"font-weight: bold; text-align: right;\">494</td><td style = \"text-align: left;\">WHR</td><td style = \"text-align: left;\">Whirlpool Corporation</td><td style = \"text-align: left;\">Consumer Discretionary</td></tr><tr><td class = \"rowNumber\" style = \"font-weight: bold; text-align: right;\">495</td><td style = \"text-align: left;\">WMB</td><td style = \"text-align: left;\">Williams Companies</td><td style = \"text-align: left;\">Energy</td></tr><tr><td class = \"rowNumber\" style = \"font-weight: bold; text-align: right;\">496</td><td style = \"text-align: left;\">WLTW</td><td style = \"text-align: left;\">Willis Towers Watson</td><td style = \"text-align: left;\">Financials</td></tr><tr><td class = \"rowNumber\" style = \"font-weight: bold; text-align: right;\">497</td><td style = \"text-align: left;\">WYNN</td><td style = \"text-align: left;\">Wynn Resorts</td><td style = \"text-align: left;\">Consumer Discretionary</td></tr><tr><td class = \"rowNumber\" style = \"font-weight: bold; text-align: right;\">498</td><td style = \"text-align: left;\">XEL</td><td style = \"text-align: left;\">Xcel Energy</td><td style = \"text-align: left;\">Utilities</td></tr><tr><td class = \"rowNumber\" style = \"font-weight: bold; text-align: right;\">499</td><td style = \"text-align: left;\">XLNX</td><td style = \"text-align: left;\">Xilinx</td><td style = \"text-align: left;\">Information Technology</td></tr><tr><td class = \"rowNumber\" style = \"font-weight: bold; text-align: right;\">500</td><td style = \"text-align: left;\">XYL</td><td style = \"text-align: left;\">Xylem</td><td style = \"text-align: left;\">Industrials</td></tr><tr><td class = \"rowNumber\" style = \"font-weight: bold; text-align: right;\">501</td><td style = \"text-align: left;\">YUM</td><td style = \"text-align: left;\">Yum! Brands</td><td style = \"text-align: left;\">Consumer Discretionary</td></tr><tr><td class = \"rowNumber\" style = \"font-weight: bold; text-align: right;\">502</td><td style = \"text-align: left;\">ZBRA</td><td style = \"text-align: left;\">Zebra Technologies</td><td style = \"text-align: left;\">Information Technology</td></tr><tr><td class = \"rowNumber\" style = \"font-weight: bold; text-align: right;\">503</td><td style = \"text-align: left;\">ZBH</td><td style = \"text-align: left;\">Zimmer Biomet</td><td style = \"text-align: left;\">Health Care</td></tr><tr><td class = \"rowNumber\" style = \"font-weight: bold; text-align: right;\">504</td><td style = \"text-align: left;\">ZION</td><td style = \"text-align: left;\">Zions Bancorp</td><td style = \"text-align: left;\">Financials</td></tr><tr><td class = \"rowNumber\" style = \"font-weight: bold; text-align: right;\">505</td><td style = \"text-align: left;\">ZTS</td><td style = \"text-align: left;\">Zoetis</td><td style = \"text-align: left;\">Health Care</td></tr></tbody></table></div>"
      ],
      "text/latex": [
       "\\begin{tabular}{r|ccc}\n",
       "\t& Symbol & Name & Sector\\\\\n",
       "\t\\hline\n",
       "\t& String7 & String & String31\\\\\n",
       "\t\\hline\n",
       "\t1 & MMM & 3M & Industrials \\\\\n",
       "\t2 & AOS & A. O. Smith & Industrials \\\\\n",
       "\t3 & ABT & Abbott Laboratories & Health Care \\\\\n",
       "\t4 & ABBV & AbbVie & Health Care \\\\\n",
       "\t5 & ABMD & Abiomed & Health Care \\\\\n",
       "\t6 & ACN & Accenture & Information Technology \\\\\n",
       "\t7 & ATVI & Activision Blizzard & Communication Services \\\\\n",
       "\t8 & ADM & ADM & Consumer Staples \\\\\n",
       "\t9 & ADBE & Adobe & Information Technology \\\\\n",
       "\t10 & AAP & Advance Auto Parts & Consumer Discretionary \\\\\n",
       "\t11 & AMD & Advanced Micro Devices & Information Technology \\\\\n",
       "\t12 & AES & AES Corp & Utilities \\\\\n",
       "\t13 & AFL & Aflac & Financials \\\\\n",
       "\t14 & A & Agilent Technologies & Health Care \\\\\n",
       "\t15 & APD & Air Products \\& Chemicals & Materials \\\\\n",
       "\t16 & AKAM & Akamai Technologies & Information Technology \\\\\n",
       "\t17 & ALK & Alaska Air Group & Industrials \\\\\n",
       "\t18 & ALB & Albemarle Corporation & Materials \\\\\n",
       "\t19 & ARE & Alexandria Real Estate Equities & Real Estate \\\\\n",
       "\t20 & ALGN & Align Technology & Health Care \\\\\n",
       "\t21 & ALLE & Allegion & Industrials \\\\\n",
       "\t22 & LNT & Alliant Energy & Utilities \\\\\n",
       "\t23 & ALL & Allstate Corp & Financials \\\\\n",
       "\t24 & GOOGL & Alphabet (Class A) & Communication Services \\\\\n",
       "\t25 & GOOG & Alphabet (Class C) & Communication Services \\\\\n",
       "\t26 & MO & Altria Group & Consumer Staples \\\\\n",
       "\t27 & AMZN & Amazon & Consumer Discretionary \\\\\n",
       "\t28 & AMCR & Amcor & Materials \\\\\n",
       "\t29 & AEE & Ameren Corp & Utilities \\\\\n",
       "\t30 & AAL & American Airlines Group & Industrials \\\\\n",
       "\t$\\dots$ & $\\dots$ & $\\dots$ & $\\dots$ \\\\\n",
       "\\end{tabular}\n"
      ],
      "text/plain": [
       "\u001b[1m505×3 DataFrame\u001b[0m\n",
       "\u001b[1m Row \u001b[0m│\u001b[1m Symbol  \u001b[0m\u001b[1m Name                   \u001b[0m\u001b[1m Sector                 \u001b[0m\n",
       "     │\u001b[90m String7 \u001b[0m\u001b[90m String                 \u001b[0m\u001b[90m String31               \u001b[0m\n",
       "─────┼─────────────────────────────────────────────────────────\n",
       "   1 │ MMM      3M                      Industrials\n",
       "   2 │ AOS      A. O. Smith             Industrials\n",
       "   3 │ ABT      Abbott Laboratories     Health Care\n",
       "   4 │ ABBV     AbbVie                  Health Care\n",
       "   5 │ ABMD     Abiomed                 Health Care\n",
       "   6 │ ACN      Accenture               Information Technology\n",
       "   7 │ ATVI     Activision Blizzard     Communication Services\n",
       "   8 │ ADM      ADM                     Consumer Staples\n",
       "   9 │ ADBE     Adobe                   Information Technology\n",
       "  10 │ AAP      Advance Auto Parts      Consumer Discretionary\n",
       "  11 │ AMD      Advanced Micro Devices  Information Technology\n",
       "  ⋮  │    ⋮               ⋮                       ⋮\n",
       " 496 │ WLTW     Willis Towers Watson    Financials\n",
       " 497 │ WYNN     Wynn Resorts            Consumer Discretionary\n",
       " 498 │ XEL      Xcel Energy             Utilities\n",
       " 499 │ XLNX     Xilinx                  Information Technology\n",
       " 500 │ XYL      Xylem                   Industrials\n",
       " 501 │ YUM      Yum! Brands             Consumer Discretionary\n",
       " 502 │ ZBRA     Zebra Technologies      Information Technology\n",
       " 503 │ ZBH      Zimmer Biomet           Health Care\n",
       " 504 │ ZION     Zions Bancorp           Financials\n",
       " 505 │ ZTS      Zoetis                  Health Care\n",
       "\u001b[36m                                               484 rows omitted\u001b[0m"
      ]
     },
     "execution_count": 48,
     "metadata": {},
     "output_type": "execute_result"
    }
   ],
   "source": [
    "firm_mapping = MyFirmMappingDataSet()"
   ]
  },
  {
   "cell_type": "code",
   "execution_count": 49,
   "id": "836bd589-a9de-4073-be8a-4f8751b005bc",
   "metadata": {
    "tags": []
   },
   "outputs": [],
   "source": [
    "ticker_lookup_dictionary = Dict{String,Int64}();\n",
    "number_of_map_elements = nrow(firm_mapping);\n",
    "for i ∈ 1:number_of_map_elements\n",
    "    ticker = firm_mapping[i,:Symbol];    \n",
    "    ticker_lookup_dictionary[ticker] = i;\n",
    "end"
   ]
  },
  {
   "cell_type": "code",
   "execution_count": 60,
   "id": "cf4c9a94-8186-448b-91f0-91cdc2302c85",
   "metadata": {
    "tags": []
   },
   "outputs": [
    {
     "data": {
      "text/plain": [
       "505"
      ]
     },
     "execution_count": 60,
     "metadata": {},
     "output_type": "execute_result"
    }
   ],
   "source": []
  },
  {
   "cell_type": "code",
   "execution_count": 39,
   "id": "61ed21d6-60ae-453b-aa06-bbe95cf9b51c",
   "metadata": {
    "tags": []
   },
   "outputs": [],
   "source": [
    "all_return_matrix = log_return_matrix(dataset, all_firms; Δt = (1/252));\n",
    "all_covariance_matrix = (1/100)*cov(all_return_matrix);\n",
    "all_expected_return = mean(all_return_matrix, dims=1) |> vec |> x-> exp.(x) .- 1;"
   ]
  },
  {
   "cell_type": "code",
   "execution_count": 58,
   "id": "0b364bba-05bd-4ae3-b14c-e5200f57bc33",
   "metadata": {
    "tags": []
   },
   "outputs": [
    {
     "data": {
      "text/plain": [
       "458-element Vector{String}:\n",
       " \"MMM\"\n",
       " \"AOS\"\n",
       " \"ABT\"\n",
       " \"ABBV\"\n",
       " \"ACN\"\n",
       " \"ATVI\"\n",
       " \"ADM\"\n",
       " \"ADBE\"\n",
       " \"AAP\"\n",
       " \"AMD\"\n",
       " \"AES\"\n",
       " \"AFL\"\n",
       " \"A\"\n",
       " ⋮\n",
       " \"WRK\"\n",
       " \"WY\"\n",
       " \"WHR\"\n",
       " \"WMB\"\n",
       " \"WYNN\"\n",
       " \"XEL\"\n",
       " \"XYL\"\n",
       " \"YUM\"\n",
       " \"ZBRA\"\n",
       " \"ZBH\"\n",
       " \"ZION\"\n",
       " \"ZTS\""
      ]
     },
     "execution_count": 58,
     "metadata": {},
     "output_type": "execute_result"
    }
   ],
   "source": [
    "all_tickers_array = Array{String,1}()\n",
    "for i ∈ eachindex(all_firms)\n",
    "    firm_index = all_firms[i];\n",
    "    push!(all_tickers_array, firm_mapping[firm_index, :Symbol])\n",
    "end\n",
    "all_tickers_array"
   ]
  },
  {
   "cell_type": "markdown",
   "id": "b79b78fc-1a2b-47b4-9f84-9e0480b9bdb1",
   "metadata": {},
   "source": [
    "### Set constants\n",
    "Finally, we set some constant values that are used in the computation of the efficient frontier and the capital allocation line:"
   ]
  },
  {
   "cell_type": "code",
   "execution_count": 7,
   "id": "bd310871-2df2-43c8-b17d-ce898553c64e",
   "metadata": {
    "tags": []
   },
   "outputs": [],
   "source": [
    "number_of_firms = 10;\n",
    "initial = zeros(number_of_firms);\n",
    "initial[1] = 1.0;\n",
    "bounds = zeros(number_of_firms,2);\n",
    "bounds[:,2] .= 1.0;\n",
    "risk_free_rate = 0.045\n",
    "number_of_points = 20;"
   ]
  },
  {
   "cell_type": "markdown",
   "id": "b7d76a72-2e57-41d1-a620-6bb158f4c16b",
   "metadata": {},
   "source": [
    "## Task 1: Compute the log return array and covariance matrix for your selection of stocks"
   ]
  },
  {
   "cell_type": "markdown",
   "id": "fa387502-39f2-45c3-a3d8-1a1a2da07e72",
   "metadata": {},
   "source": [
    "Each firm is assigned an `index` (the `keys` of the `dataset` dictionary). Let's specify a list of `tickers` and look up the corresponding `firm_index` from the `ticker_lookup_dictionary`. We'll hold the indexes of the firms we are interested in in the `firms` array:"
   ]
  },
  {
   "cell_type": "code",
   "execution_count": 66,
   "id": "f2b4915f-21c8-4f98-8148-f116fe01bf42",
   "metadata": {
    "tags": []
   },
   "outputs": [],
   "source": [
    "my_list_of_tickers = [\"ADBE\",\"ZTS\",\"AAPL\"];\n",
    "my_list_of_firms = Array{Int64,1}();\n",
    "for ticker ∈ my_list_of_tickers\n",
    "    firm_index = ticker_lookup_dictionary[ticker];    \n",
    "    push!(my_list_of_firms, firm_index)\n",
    "end"
   ]
  },
  {
   "cell_type": "code",
   "execution_count": 67,
   "id": "df014d8e-ab91-4e73-b236-ceaea46b4c75",
   "metadata": {
    "tags": []
   },
   "outputs": [],
   "source": [
    "my_expected_return_array = Array{Float64,1}();\n",
    "for i ∈ eachindex(my_list_of_firms)\n",
    "    firm_index = findfirst(x->x==my_list_of_firms[i], all_firms)\n",
    "    push!(my_expected_return_array, all_expected_return[firm_index])\n",
    "end"
   ]
  },
  {
   "cell_type": "code",
   "execution_count": 68,
   "id": "59695873-7fac-4c96-8ce6-aeb8c4520bc4",
   "metadata": {
    "tags": []
   },
   "outputs": [
    {
     "data": {
      "text/plain": [
       "3-element Vector{Float64}:\n",
       " 0.1318403601715048\n",
       " 0.1528055826813759\n",
       " 0.2448236308641849"
      ]
     },
     "execution_count": 68,
     "metadata": {},
     "output_type": "execute_result"
    }
   ],
   "source": [
    "my_expected_return_array"
   ]
  },
  {
   "cell_type": "markdown",
   "id": "0f1b50da-9536-42f8-9e18-010ce16c824c",
   "metadata": {},
   "source": [
    "## Task 2: Compute the efficient frontier for your collection of `N = 10` stocks\n",
    "Fill me in"
   ]
  },
  {
   "cell_type": "markdown",
   "id": "6eaa5f34-b7ba-4161-974e-9ca941592689",
   "metadata": {},
   "source": [
    "## Task 3: Compute the capital allocation line\n",
    "Fill me in"
   ]
  },
  {
   "cell_type": "markdown",
   "id": "615b90fb-2be6-4e9d-b97c-a0da428095ab",
   "metadata": {},
   "source": [
    "## Task 4: Compute your operating point\n",
    "Fill me in"
   ]
  },
  {
   "cell_type": "code",
   "execution_count": null,
   "id": "27bc43c9-98ff-4f89-b560-f40653716656",
   "metadata": {},
   "outputs": [],
   "source": []
  }
 ],
 "metadata": {
  "kernelspec": {
   "display_name": "Julia 1.9.3",
   "language": "julia",
   "name": "julia-1.9"
  },
  "language_info": {
   "file_extension": ".jl",
   "mimetype": "application/julia",
   "name": "julia",
   "version": "1.9.3"
  }
 },
 "nbformat": 4,
 "nbformat_minor": 5
}
