{
 "cells": [
  {
   "cell_type": "markdown",
   "id": "b591adc4-0afa-4cd6-9e9d-b408fb7edb7e",
   "metadata": {},
   "source": [
    "# PS2: Selection of a Tangent Portfolio and Your Asset Allocation\n",
    "The objective of `PS2` is to walk you through the calculation of your position on the capital allocation line that considers your risk aversion. This problem set is based on the `L5b` capital allocation example notebook, which is available on the [CHEME 5760 example repository](https://github.com/varnerlab/CHEME-5760-Examples-F23.git). \n",
    "\n",
    "#### Problem statement\n",
    "In `PS2`, we'll start by constructing the return and covariance for a set of stocks you choose, and then we’ll work our way to calculate your optimal value of $\\theta$, i.e., your location on the capital allocation line. In particular, we'll do these tasks:\n",
    "* Task 1: Compute the log return array and covariance matrix for a collection of `N = 10` stocks that you select from the historical dataset \n",
    "* Task 2: Compute the efficient frontier for your collection of `N = 10` stocks\n",
    "* Task 3: Compute the capital allocation line connecting the risk-free asset and the tangent portfolio\n",
    "* Task 4: Use your estimated value for the risk aversion parameter `A` to calculate your investment allocation along the capital allocation line"
   ]
  },
  {
   "cell_type": "markdown",
   "id": "714c5346-c7ac-44f1-a5bc-a58d77ce90d3",
   "metadata": {
    "tags": []
   },
   "source": [
    "## Setup\n",
    "The computations in this lab (or example) are enabled by the [VLDecisionsPackage.jl](https://github.com/varnerlab/VLDecisionsPackage.jl.git) and several external `Julia` packages. To load the required packages and any custom codes the teaching team has developed to work with these packages, we [include](https://docs.julialang.org/en/v1/manual/code-loading/) the `Include.jl` file):"
   ]
  },
  {
   "cell_type": "code",
   "execution_count": 1,
   "id": "5b2b39ba-7a95-420d-8641-3d85cd4cae87",
   "metadata": {
    "tags": []
   },
   "outputs": [
    {
     "name": "stderr",
     "output_type": "stream",
     "text": [
      "\u001b[32m\u001b[1m    Updating\u001b[22m\u001b[39m git-repo `https://github.com/varnerlab/VLDecisionsPackage.jl.git`\n",
      "\u001b[32m\u001b[1m   Resolving\u001b[22m\u001b[39m package versions...\n",
      "\u001b[32m\u001b[1m  No Changes\u001b[22m\u001b[39m to `~/Desktop/julia_work/CHEME-5760-PS2-AssetSelectionProblem-Fall-2023/Project.toml`\n",
      "\u001b[32m\u001b[1m  No Changes\u001b[22m\u001b[39m to `~/Desktop/julia_work/CHEME-5760-PS2-AssetSelectionProblem-Fall-2023/Manifest.toml`\n",
      "\u001b[32m\u001b[1m  Activating\u001b[22m\u001b[39m project at `~/Desktop/julia_work/CHEME-5760-PS2-AssetSelectionProblem-Fall-2023`\n",
      "\u001b[32m\u001b[1m    Updating\u001b[22m\u001b[39m registry at `~/.julia/registries/General.toml`\n",
      "\u001b[32m\u001b[1m    Updating\u001b[22m\u001b[39m git-repo `https://github.com/varnerlab/VLDecisionsPackage.jl.git`\n",
      "\u001b[32m\u001b[1m   Installed\u001b[22m\u001b[39m QuadGK ─ v2.9.1\n",
      "\u001b[32m\u001b[1m  No Changes\u001b[22m\u001b[39m to `~/Desktop/julia_work/CHEME-5760-PS2-AssetSelectionProblem-Fall-2023/Project.toml`\n",
      "\u001b[32m\u001b[1m    Updating\u001b[22m\u001b[39m `~/Desktop/julia_work/CHEME-5760-PS2-AssetSelectionProblem-Fall-2023/Manifest.toml`\n",
      "  \u001b[90m[1fd47b50] \u001b[39m\u001b[93m↑ QuadGK v2.9.0 ⇒ v2.9.1\u001b[39m\n",
      "\u001b[32m\u001b[1mPrecompiling\u001b[22m\u001b[39m project...\n",
      "\u001b[32m  ✓ \u001b[39m\u001b[90mQuadGK\u001b[39m\n",
      "\u001b[32m  ✓ \u001b[39mDistributions\n",
      "\u001b[32m  ✓ \u001b[39mVLDecisionsPackage\n",
      "  3 dependencies successfully precompiled in 8 seconds. 217 already precompiled.\n"
     ]
    }
   ],
   "source": [
    "include(\"Include.jl\");"
   ]
  },
  {
   "cell_type": "markdown",
   "id": "d931ba88-ea69-42c7-a413-ea7d8a17cfe1",
   "metadata": {},
   "source": [
    "### Packages\n",
    "`Include.jl` loads several external packages that we will use for our excercise:\n",
    "* [DataFrames.jl](https://dataframes.juliadata.org/stable/) provides a set of tools for working with tabular data in [Julia](https://julialang.org). Its design and functionality are similar to those of [Pandas (in Python)](https://pandas.pydata.org) and [data.frame, data.table and dplyr (in R)](https://dplyr.tidyverse.org), making it a great general purpose data science tool.\n",
    "* [Plots.jl](https://docs.juliaplots.org/stable/) is a plotting library in [Julia](https://julialang.org). [Plots.jl](https://docs.juliaplots.org/stable/) exports the `plot(...)` function which we use to visualize data.\n",
    "* [VLDecisionsPackage.jl](https://github.com/varnerlab/VLDecisionsPackage.jl.git) holds the codes and types for most of the computation used in the problem set."
   ]
  },
  {
   "cell_type": "markdown",
   "id": "d0ffe379-26ae-445e-88c4-b70773a4aeb7",
   "metadata": {},
   "source": [
    "### Types\n",
    "The `MyMarkowitzRiskyAssetOnlyPortfiolioChoiceProblem` type, which encodes data required to compute the efficient frontier for a collection of $N$ risky assets only, has the fields:\n",
    "* `Σ::Array{Float64,2}` is the $N\\times{N}$ covariance matrix, with entries $cov(r_{i},r_{j})$\n",
    "* `μ::Array{Float64,1}` is the $N\\times{1}$ vector of expected return values with elements $\\mathbb{E}(r_{i})$\n",
    "* `bounds::Array{Float64,2}` is an $N\\times{2}$ array that holds the upper and lower bound for the asset allocation. Each row corresponds to an asset, while the first column is the lower bound, and the second column is the upper bound on the asset allocation fraction.\n",
    "* `R::Float64` denotes the lower bound on the desired return\n",
    "* `initial::Array{Float64,1}` is the $N\\times{1}$ array of initial guesses\n",
    "\n",
    "The `MyMarkowitzRiskyRiskFreePortfiolioChoiceProblem`, which encodes data required to compute the optimal allocation for a portfolio containing $N$ risky assets and a single risk-free asset, has the fields:\n",
    "* `Σ::Array{Float64,2}` is the $N\\times{N}$ covariance matrix, with entries $cov(r_{i},r_{j})$\n",
    "* `μ::Array{Float64,1}` is the $N\\times{1}$ vector of expected return values, with elements $\\mathbb{E}(r_{i})$\n",
    "* `bounds::Array{Float64,2}` is an $N\\times{2}$ array that holds the upper and lower bound for the asset allocation. Each row corresponds to an asset, while the first column is the lower bound, and the second column is the upper bound on the asset allocation fraction.\n",
    "* `R::Float64` denotes the lower bound on the desired return\n",
    "* `initial::Array{Float64,1}` is the $N\\times{1}$ array of initial guesses\n",
    "* `risk_free_rate::Float64` is the risk-free rate of return, e.g., the rate of return on a [10-year US Treasury Note](https://www.cnbc.com/bonds/)"
   ]
  },
  {
   "cell_type": "markdown",
   "id": "e5feffb0-cda0-43f5-bc36-96c63790f21e",
   "metadata": {},
   "source": [
    "#### Functions\n",
    "* The `MyPortfolioDataSet()` function loads the risky asset price dataset, and returns it as a [DataFrame.jl](https://dataframes.juliadata.org/stable/) instance. \n",
    "* The ` MyFirmMappingDataSet()` function load the firm mapping, and returns it as a [DataFrame.jl](https://dataframes.juliadata.org/stable/) instance.\n",
    "* The `build(...)` is a factory method that takes the type of object that you wish to construct, and the parameters required to construct the object, e.g., the fields of the `MyMarkowitzRiskyAssetOnlyPortfiolioChoiceProblem` or `MyMarkowitzRiskyRiskFreePortfiolioChoiceProblem` types.\n",
    "* The `solve(...)` method takes a `problem` type, e.g., an instance of `MyMarkowitzRiskyRiskFreePortfiolioChoiceProblem` and returns the solution to the problem as a [Julia Dictionary](https://docs.julialang.org/en/v1/base/collections/#Dictionaries) instance."
   ]
  },
  {
   "cell_type": "markdown",
   "id": "776aacc5-dd2a-4962-8f94-2c8ef0944208",
   "metadata": {},
   "source": [
    "### Load historical dataset\n",
    "We gathered a daily open-high-low-close `dataset` for each firm in the [S&P500](https://en.wikipedia.org/wiki/S%26P_500) for the past five-trading years (a maximum of `1256` data points per firm). However, not all the firms in the `dataset` have the maximum number of trading days, i.e., some firms are missing information for various reasons; perhaps they were acquired, merged, or delisted, etc. We will exclude these firms from the `dataset`.\n",
    "\n",
    "We load the price `dataset` by calling the `MyPortfolioDataSet()` function:"
   ]
  },
  {
   "cell_type": "code",
   "execution_count": 2,
   "id": "04e0aa3d-89c1-4613-b5da-ef27c5e8bd98",
   "metadata": {
    "tags": []
   },
   "outputs": [],
   "source": [
    "dataset = MyPortfolioDataSet() |> x-> x[\"dataset\"];"
   ]
  },
  {
   "cell_type": "markdown",
   "id": "1932a4ca-d76b-462f-8cfd-5fc640ade489",
   "metadata": {},
   "source": [
    "The all keys array holds the list of firm indexes in the dataset that have complete data, i.e., all `1256` data values: "
   ]
  },
  {
   "cell_type": "code",
   "execution_count": 3,
   "id": "d7b380fb-0be0-4c59-8c0b-ef03d1994503",
   "metadata": {
    "tags": []
   },
   "outputs": [],
   "source": [
    "all_firms = keys(dataset) |> collect |> sort;"
   ]
  },
  {
   "cell_type": "markdown",
   "id": "7727a1f6-5952-40e4-97c3-2d8563600e4c",
   "metadata": {},
   "source": [
    "However, while it is sometimes convenient to work with the data using the `firm_index`, often we specify the [ticker symbol](https://en.wikipedia.org/wiki/Ticker_symbol#:~:text=A%20ticker%20symbol%20or%20stock,on%20a%20particular%20stock%20market.) instead. To facilitate this, let's load a mapping between the `firm_index` and the ticker symbols using the `MyFirmMappingDataSet()` function. We store this mapping in the `firm_mapping_df` variable, which is of type `DataFrame`:"
   ]
  },
  {
   "cell_type": "code",
   "execution_count": 4,
   "id": "7af6103a-d54e-4d15-b966-0b32634a5815",
   "metadata": {
    "tags": []
   },
   "outputs": [
    {
     "data": {
      "text/html": [
       "<div><div style = \"float: left;\"><span>505×3 DataFrame</span></div><div style = \"float: right;\"><span style = \"font-style: italic;\">480 rows omitted</span></div><div style = \"clear: both;\"></div></div><div class = \"data-frame\" style = \"overflow-x: scroll;\"><table class = \"data-frame\" style = \"margin-bottom: 6px;\"><thead><tr class = \"header\"><th class = \"rowNumber\" style = \"font-weight: bold; text-align: right;\">Row</th><th style = \"text-align: left;\">Symbol</th><th style = \"text-align: left;\">Name</th><th style = \"text-align: left;\">Sector</th></tr><tr class = \"subheader headerLastRow\"><th class = \"rowNumber\" style = \"font-weight: bold; text-align: right;\"></th><th title = \"String7\" style = \"text-align: left;\">String7</th><th title = \"String\" style = \"text-align: left;\">String</th><th title = \"String31\" style = \"text-align: left;\">String31</th></tr></thead><tbody><tr><td class = \"rowNumber\" style = \"font-weight: bold; text-align: right;\">1</td><td style = \"text-align: left;\">MMM</td><td style = \"text-align: left;\">3M</td><td style = \"text-align: left;\">Industrials</td></tr><tr><td class = \"rowNumber\" style = \"font-weight: bold; text-align: right;\">2</td><td style = \"text-align: left;\">AOS</td><td style = \"text-align: left;\">A. O. Smith</td><td style = \"text-align: left;\">Industrials</td></tr><tr><td class = \"rowNumber\" style = \"font-weight: bold; text-align: right;\">3</td><td style = \"text-align: left;\">ABT</td><td style = \"text-align: left;\">Abbott Laboratories</td><td style = \"text-align: left;\">Health Care</td></tr><tr><td class = \"rowNumber\" style = \"font-weight: bold; text-align: right;\">4</td><td style = \"text-align: left;\">ABBV</td><td style = \"text-align: left;\">AbbVie</td><td style = \"text-align: left;\">Health Care</td></tr><tr><td class = \"rowNumber\" style = \"font-weight: bold; text-align: right;\">5</td><td style = \"text-align: left;\">ABMD</td><td style = \"text-align: left;\">Abiomed</td><td style = \"text-align: left;\">Health Care</td></tr><tr><td class = \"rowNumber\" style = \"font-weight: bold; text-align: right;\">6</td><td style = \"text-align: left;\">ACN</td><td style = \"text-align: left;\">Accenture</td><td style = \"text-align: left;\">Information Technology</td></tr><tr><td class = \"rowNumber\" style = \"font-weight: bold; text-align: right;\">7</td><td style = \"text-align: left;\">ATVI</td><td style = \"text-align: left;\">Activision Blizzard</td><td style = \"text-align: left;\">Communication Services</td></tr><tr><td class = \"rowNumber\" style = \"font-weight: bold; text-align: right;\">8</td><td style = \"text-align: left;\">ADM</td><td style = \"text-align: left;\">ADM</td><td style = \"text-align: left;\">Consumer Staples</td></tr><tr><td class = \"rowNumber\" style = \"font-weight: bold; text-align: right;\">9</td><td style = \"text-align: left;\">ADBE</td><td style = \"text-align: left;\">Adobe</td><td style = \"text-align: left;\">Information Technology</td></tr><tr><td class = \"rowNumber\" style = \"font-weight: bold; text-align: right;\">10</td><td style = \"text-align: left;\">AAP</td><td style = \"text-align: left;\">Advance Auto Parts</td><td style = \"text-align: left;\">Consumer Discretionary</td></tr><tr><td class = \"rowNumber\" style = \"font-weight: bold; text-align: right;\">11</td><td style = \"text-align: left;\">AMD</td><td style = \"text-align: left;\">Advanced Micro Devices</td><td style = \"text-align: left;\">Information Technology</td></tr><tr><td class = \"rowNumber\" style = \"font-weight: bold; text-align: right;\">12</td><td style = \"text-align: left;\">AES</td><td style = \"text-align: left;\">AES Corp</td><td style = \"text-align: left;\">Utilities</td></tr><tr><td class = \"rowNumber\" style = \"font-weight: bold; text-align: right;\">13</td><td style = \"text-align: left;\">AFL</td><td style = \"text-align: left;\">Aflac</td><td style = \"text-align: left;\">Financials</td></tr><tr><td style = \"text-align: right;\">&vellip;</td><td style = \"text-align: right;\">&vellip;</td><td style = \"text-align: right;\">&vellip;</td><td style = \"text-align: right;\">&vellip;</td></tr><tr><td class = \"rowNumber\" style = \"font-weight: bold; text-align: right;\">494</td><td style = \"text-align: left;\">WHR</td><td style = \"text-align: left;\">Whirlpool Corporation</td><td style = \"text-align: left;\">Consumer Discretionary</td></tr><tr><td class = \"rowNumber\" style = \"font-weight: bold; text-align: right;\">495</td><td style = \"text-align: left;\">WMB</td><td style = \"text-align: left;\">Williams Companies</td><td style = \"text-align: left;\">Energy</td></tr><tr><td class = \"rowNumber\" style = \"font-weight: bold; text-align: right;\">496</td><td style = \"text-align: left;\">WLTW</td><td style = \"text-align: left;\">Willis Towers Watson</td><td style = \"text-align: left;\">Financials</td></tr><tr><td class = \"rowNumber\" style = \"font-weight: bold; text-align: right;\">497</td><td style = \"text-align: left;\">WYNN</td><td style = \"text-align: left;\">Wynn Resorts</td><td style = \"text-align: left;\">Consumer Discretionary</td></tr><tr><td class = \"rowNumber\" style = \"font-weight: bold; text-align: right;\">498</td><td style = \"text-align: left;\">XEL</td><td style = \"text-align: left;\">Xcel Energy</td><td style = \"text-align: left;\">Utilities</td></tr><tr><td class = \"rowNumber\" style = \"font-weight: bold; text-align: right;\">499</td><td style = \"text-align: left;\">XLNX</td><td style = \"text-align: left;\">Xilinx</td><td style = \"text-align: left;\">Information Technology</td></tr><tr><td class = \"rowNumber\" style = \"font-weight: bold; text-align: right;\">500</td><td style = \"text-align: left;\">XYL</td><td style = \"text-align: left;\">Xylem</td><td style = \"text-align: left;\">Industrials</td></tr><tr><td class = \"rowNumber\" style = \"font-weight: bold; text-align: right;\">501</td><td style = \"text-align: left;\">YUM</td><td style = \"text-align: left;\">Yum! Brands</td><td style = \"text-align: left;\">Consumer Discretionary</td></tr><tr><td class = \"rowNumber\" style = \"font-weight: bold; text-align: right;\">502</td><td style = \"text-align: left;\">ZBRA</td><td style = \"text-align: left;\">Zebra Technologies</td><td style = \"text-align: left;\">Information Technology</td></tr><tr><td class = \"rowNumber\" style = \"font-weight: bold; text-align: right;\">503</td><td style = \"text-align: left;\">ZBH</td><td style = \"text-align: left;\">Zimmer Biomet</td><td style = \"text-align: left;\">Health Care</td></tr><tr><td class = \"rowNumber\" style = \"font-weight: bold; text-align: right;\">504</td><td style = \"text-align: left;\">ZION</td><td style = \"text-align: left;\">Zions Bancorp</td><td style = \"text-align: left;\">Financials</td></tr><tr><td class = \"rowNumber\" style = \"font-weight: bold; text-align: right;\">505</td><td style = \"text-align: left;\">ZTS</td><td style = \"text-align: left;\">Zoetis</td><td style = \"text-align: left;\">Health Care</td></tr></tbody></table></div>"
      ],
      "text/latex": [
       "\\begin{tabular}{r|ccc}\n",
       "\t& Symbol & Name & Sector\\\\\n",
       "\t\\hline\n",
       "\t& String7 & String & String31\\\\\n",
       "\t\\hline\n",
       "\t1 & MMM & 3M & Industrials \\\\\n",
       "\t2 & AOS & A. O. Smith & Industrials \\\\\n",
       "\t3 & ABT & Abbott Laboratories & Health Care \\\\\n",
       "\t4 & ABBV & AbbVie & Health Care \\\\\n",
       "\t5 & ABMD & Abiomed & Health Care \\\\\n",
       "\t6 & ACN & Accenture & Information Technology \\\\\n",
       "\t7 & ATVI & Activision Blizzard & Communication Services \\\\\n",
       "\t8 & ADM & ADM & Consumer Staples \\\\\n",
       "\t9 & ADBE & Adobe & Information Technology \\\\\n",
       "\t10 & AAP & Advance Auto Parts & Consumer Discretionary \\\\\n",
       "\t11 & AMD & Advanced Micro Devices & Information Technology \\\\\n",
       "\t12 & AES & AES Corp & Utilities \\\\\n",
       "\t13 & AFL & Aflac & Financials \\\\\n",
       "\t14 & A & Agilent Technologies & Health Care \\\\\n",
       "\t15 & APD & Air Products \\& Chemicals & Materials \\\\\n",
       "\t16 & AKAM & Akamai Technologies & Information Technology \\\\\n",
       "\t17 & ALK & Alaska Air Group & Industrials \\\\\n",
       "\t18 & ALB & Albemarle Corporation & Materials \\\\\n",
       "\t19 & ARE & Alexandria Real Estate Equities & Real Estate \\\\\n",
       "\t20 & ALGN & Align Technology & Health Care \\\\\n",
       "\t21 & ALLE & Allegion & Industrials \\\\\n",
       "\t22 & LNT & Alliant Energy & Utilities \\\\\n",
       "\t23 & ALL & Allstate Corp & Financials \\\\\n",
       "\t24 & GOOGL & Alphabet (Class A) & Communication Services \\\\\n",
       "\t25 & GOOG & Alphabet (Class C) & Communication Services \\\\\n",
       "\t26 & MO & Altria Group & Consumer Staples \\\\\n",
       "\t27 & AMZN & Amazon & Consumer Discretionary \\\\\n",
       "\t28 & AMCR & Amcor & Materials \\\\\n",
       "\t29 & AEE & Ameren Corp & Utilities \\\\\n",
       "\t30 & AAL & American Airlines Group & Industrials \\\\\n",
       "\t$\\dots$ & $\\dots$ & $\\dots$ & $\\dots$ \\\\\n",
       "\\end{tabular}\n"
      ],
      "text/plain": [
       "\u001b[1m505×3 DataFrame\u001b[0m\n",
       "\u001b[1m Row \u001b[0m│\u001b[1m Symbol  \u001b[0m\u001b[1m Name                   \u001b[0m\u001b[1m Sector                 \u001b[0m\n",
       "     │\u001b[90m String7 \u001b[0m\u001b[90m String                 \u001b[0m\u001b[90m String31               \u001b[0m\n",
       "─────┼─────────────────────────────────────────────────────────\n",
       "   1 │ MMM      3M                      Industrials\n",
       "   2 │ AOS      A. O. Smith             Industrials\n",
       "   3 │ ABT      Abbott Laboratories     Health Care\n",
       "   4 │ ABBV     AbbVie                  Health Care\n",
       "   5 │ ABMD     Abiomed                 Health Care\n",
       "   6 │ ACN      Accenture               Information Technology\n",
       "   7 │ ATVI     Activision Blizzard     Communication Services\n",
       "   8 │ ADM      ADM                     Consumer Staples\n",
       "   9 │ ADBE     Adobe                   Information Technology\n",
       "  10 │ AAP      Advance Auto Parts      Consumer Discretionary\n",
       "  11 │ AMD      Advanced Micro Devices  Information Technology\n",
       "  ⋮  │    ⋮               ⋮                       ⋮\n",
       " 496 │ WLTW     Willis Towers Watson    Financials\n",
       " 497 │ WYNN     Wynn Resorts            Consumer Discretionary\n",
       " 498 │ XEL      Xcel Energy             Utilities\n",
       " 499 │ XLNX     Xilinx                  Information Technology\n",
       " 500 │ XYL      Xylem                   Industrials\n",
       " 501 │ YUM      Yum! Brands             Consumer Discretionary\n",
       " 502 │ ZBRA     Zebra Technologies      Information Technology\n",
       " 503 │ ZBH      Zimmer Biomet           Health Care\n",
       " 504 │ ZION     Zions Bancorp           Financials\n",
       " 505 │ ZTS      Zoetis                  Health Care\n",
       "\u001b[36m                                               484 rows omitted\u001b[0m"
      ]
     },
     "execution_count": 4,
     "metadata": {},
     "output_type": "execute_result"
    }
   ],
   "source": [
    "firm_mapping_df = MyFirmMappingDataSet()"
   ]
  },
  {
   "cell_type": "markdown",
   "id": "e0f9c1c4-ec1a-4fe3-b57e-15d5ae960067",
   "metadata": {},
   "source": [
    "To interconvert between the `firm_index` and `ticker` representation of the firms in the dataset, we create a `ticker_lookup_dictionary` which holds the ticker symbols as the keys and the `firm_index` as the value:"
   ]
  },
  {
   "cell_type": "code",
   "execution_count": 5,
   "id": "836bd589-a9de-4073-be8a-4f8751b005bc",
   "metadata": {
    "tags": []
   },
   "outputs": [],
   "source": [
    "ticker_lookup_dictionary = Dict{String,Int64}();\n",
    "number_of_map_elements = nrow(firm_mapping_df);\n",
    "for i ∈ 1:number_of_map_elements\n",
    "    ticker = firm_mapping_df[i,:Symbol];    \n",
    "    ticker_lookup_dictionary[ticker] = i;\n",
    "end"
   ]
  },
  {
   "cell_type": "markdown",
   "id": "487c631c-e1b7-4d0d-bbf1-0320743c47aa",
   "metadata": {
    "tags": []
   },
   "source": [
    "For example, [Apple](https://www.apple.com) has the `ticker = AAPL`, in the dataset that is `firm_index`:"
   ]
  },
  {
   "cell_type": "code",
   "execution_count": 6,
   "id": "575d532e-0505-451d-bcb6-9c7fea6eb149",
   "metadata": {
    "tags": []
   },
   "outputs": [
    {
     "data": {
      "text/plain": [
       "46"
      ]
     },
     "execution_count": 6,
     "metadata": {},
     "output_type": "execute_result"
    }
   ],
   "source": [
    "ticker_lookup_dictionary[\"AAPL\"]"
   ]
  },
  {
   "cell_type": "markdown",
   "id": "c77499fa-3e5f-4472-a09f-f237fddc16dd",
   "metadata": {},
   "source": [
    "### Compute the covariance and expected yield for all firms in the dataset\n",
    "The expected return $\\mathbb{E}(r_{i})$ and covariance matrix $\\Sigma$ will be used in your calculations, so we'll provide values for both of these items for the entire data set (all `N = 458` companies), and then you can pick out which forms you are interested in. \n",
    "\n",
    "First, we compute the expected (annualized) log return by passing the `dataset` and the entire list of firms we have in the dataset (held in the $N\\times{1}$ `all_firms` array) to the `log_return_matrix(...)` method. The result is stored in the `all_firms_return_matrix` variable, a $T-1\\times{N}$ array of log return values. Each row of `all_firms_return_matrix` corresponds to a time-value, while each column corresponds to a firm:"
   ]
  },
  {
   "cell_type": "code",
   "execution_count": 7,
   "id": "61ed21d6-60ae-453b-aa06-bbe95cf9b51c",
   "metadata": {
    "tags": []
   },
   "outputs": [],
   "source": [
    "all_firms_return_matrix = log_return_matrix(dataset, all_firms; Δt = (1/252));"
   ]
  },
  {
   "cell_type": "markdown",
   "id": "243783bd-1930-4967-849a-25b8e9c6c84c",
   "metadata": {},
   "source": [
    "Next, we estimate the `covariance_matrix` from the `all_firms_return_matrix` using the `cov(...)` function, which is exported by the [Statistics.jl package](https://docs.julialang.org/en/v1/stdlib/Statistics/). We store the $N\\times{N}$ covariance matrix in the $\\Sigma$ variable:"
   ]
  },
  {
   "cell_type": "code",
   "execution_count": 8,
   "id": "aabfb824-830f-4869-b22d-8283b7294510",
   "metadata": {
    "tags": []
   },
   "outputs": [],
   "source": [
    "Σ = cov(all_firms_return_matrix) |> x-> x*(1/100);"
   ]
  },
  {
   "cell_type": "markdown",
   "id": "044a3b93-3165-41fd-8a2b-e509e105688e",
   "metadata": {},
   "source": [
    "Finally, we estimate the expected return for each firm from the `all_firms_return_matrix` using the `mean(...)` function, which is exported by the [Statistics.jl package](https://docs.julialang.org/en/v1/stdlib/Statistics/). We set the $N\\times{1}$ vector of expected values, i.e., $\\mathbb{E}(r_{1}),\\dotsc,\\mathbb{E}(r_{N})$ in the variable $\\mu$:"
   ]
  },
  {
   "cell_type": "code",
   "execution_count": 9,
   "id": "e9c2049b-10eb-45e9-89b7-a06af981c805",
   "metadata": {
    "tags": []
   },
   "outputs": [],
   "source": [
    "μ = mean(all_firms_return_matrix, dims=1) |> vec |> x-> exp.(x) .- 1;"
   ]
  },
  {
   "cell_type": "markdown",
   "id": "b79b78fc-1a2b-47b4-9f84-9e0480b9bdb1",
   "metadata": {},
   "source": [
    "### Set constants used in the calculations\n",
    "Lastly, we set some constant values that are used in the computation of the efficient frontier and the capital allocation line:"
   ]
  },
  {
   "cell_type": "code",
   "execution_count": 10,
   "id": "bd310871-2df2-43c8-b17d-ce898553c64e",
   "metadata": {
    "tags": []
   },
   "outputs": [],
   "source": [
    "number_of_firms = 10;\n",
    "initial = zeros(number_of_firms);\n",
    "initial[1] = 1.0;\n",
    "bounds = zeros(number_of_firms,2);\n",
    "bounds[:,2] .= 1.0;\n",
    "risk_free_rate = exp(0.045) - 1;\n",
    "number_of_points = 20;"
   ]
  },
  {
   "cell_type": "markdown",
   "id": "b7d76a72-2e57-41d1-a620-6bb158f4c16b",
   "metadata": {},
   "source": [
    "## Task 1: Build the log return array and covariance matrix for your tangent portfolio $\\mathcal{T}$\n",
    "Before we compute the fraction of risky versus risk-free assets in the complete portfolio, we must decide which stocks to include in the risky portfolio. One strategy is to pick stocks that have small or even negative covariance. Let's explore this idea. \n",
    "\n",
    "Specify five `ticker symbols`, e.g., `AAPL`, `MSFT`, etc., that interest you in the `my_list_of_tickers` array. We'll  put the indexes of your five firms in the `my_list_of_firm_ids` array:"
   ]
  },
  {
   "cell_type": "code",
   "execution_count": 11,
   "id": "f2b4915f-21c8-4f98-8148-f116fe01bf42",
   "metadata": {
    "tags": []
   },
   "outputs": [],
   "source": [
    "# Add your tickers to the my_list_of_tickers array\n",
    "my_list_of_tickers = [\"ADBE\",\"ZTS\",\"AAPL\"];\n",
    "my_list_of_firm_ids = Array{Int64,1}();\n",
    "for ticker ∈ my_list_of_tickers\n",
    "    firm_index = ticker_lookup_dictionary[ticker];    \n",
    "    push!(my_list_of_firm_ids, firm_index)\n",
    "end"
   ]
  },
  {
   "cell_type": "markdown",
   "id": "3be6f3e1-4819-4780-922f-aebb64cbd4bd",
   "metadata": {},
   "source": [
    "Next, for each the firms you selected, _find the lowest correlation twin firm_ by analyzing the entries of the covariance matrix. Add the indexes of these twin firms to the `my_list_of_firm_ids` array using the `push!(...)` function:"
   ]
  },
  {
   "cell_type": "code",
   "execution_count": 12,
   "id": "fe58ed02-c4bf-4a67-b851-6d28e48c64f7",
   "metadata": {
    "tags": []
   },
   "outputs": [],
   "source": [
    "# ---------------------- #\n",
    "# fill me in here\n",
    "# ---------------------- #"
   ]
  },
  {
   "cell_type": "markdown",
   "id": "24c5bec6-6237-492e-88e5-31635edda3aa",
   "metadata": {},
   "source": [
    "Now that you have selected the firms in your risky portfolio, we'll compute for you the firm-specific expected return vector and covariance matrix. We'll store these in the $\\hat{\\mu}$ and $\\hat{\\Sigma}$ variables. First, we'll construct the $\\hat{\\mu}$ vector:"
   ]
  },
  {
   "cell_type": "code",
   "execution_count": 13,
   "id": "df014d8e-ab91-4e73-b236-ceaea46b4c75",
   "metadata": {
    "tags": []
   },
   "outputs": [],
   "source": [
    "# --- DO NOT CHANGE THIS BLOCK ----------------------------------------- #\n",
    "μ̂ = Array{Float64,1}();\n",
    "for i ∈ eachindex(my_list_of_firm_ids)\n",
    "    firm_index = findfirst(x->x==my_list_of_firm_ids[i], all_firms)\n",
    "    push!(μ̂, μ[firm_index])\n",
    "end\n",
    "# ---------------------------------------------------------------------- #"
   ]
  },
  {
   "cell_type": "markdown",
   "id": "e4609a50-5da2-46ac-8b17-4c22cad2fec5",
   "metadata": {
    "tags": []
   },
   "source": [
    "and then we'll compute the covariance $\\hat{\\Sigma}$ matrix:"
   ]
  },
  {
   "cell_type": "code",
   "execution_count": 14,
   "id": "21fcf223-ffc6-45aa-b656-20c2711fa1f2",
   "metadata": {
    "tags": []
   },
   "outputs": [],
   "source": [
    "# --- DO NOT CHANGE THIS BLOCK ----------------------------------------- #\n",
    "my_number_of_selected_firms = length(my_list_of_firm_ids)\n",
    "Σ̂ = Array{Float64,2}(undef, my_number_of_selected_firms, my_number_of_selected_firms);\n",
    "for i ∈ eachindex(my_list_of_firm_ids)\n",
    "    row_firm_index = findfirst(x->x==my_list_of_firm_ids[i], all_firms)\n",
    "    for j ∈ eachindex(my_list_of_firm_ids)\n",
    "        col_firm_index = findfirst(x->x==my_list_of_firm_ids[j], all_firms)\n",
    "        Σ̂[i,j] = Σ[row_firm_index, col_firm_index]\n",
    "    end\n",
    "end\n",
    "# ---------------------------------------------------------------------- #"
   ]
  },
  {
   "cell_type": "markdown",
   "id": "0f1b50da-9536-42f8-9e18-010ce16c824c",
   "metadata": {},
   "source": [
    "## Task 2: Compute the efficient frontier for your collection of `N = 10` stocks\n",
    "Create an instance of the `MyMarkowitzRiskyAssetOnlyPortfiolioChoiceProblem` type, and store this in the `problem_risk` variable using the `build(...)` method. You'll need to pass your covariance array $\\hat{\\Sigma}$, the expected return array $\\hat{\\mu}$, along with bounds and an initial guess, to the `build(...)` method:"
   ]
  },
  {
   "cell_type": "code",
   "execution_count": 15,
   "id": "ecfd992d-1ede-4bb6-bac3-1e3d92b5431c",
   "metadata": {
    "tags": []
   },
   "outputs": [],
   "source": [
    "# Build a problem object using the build method\n",
    "problem_risk = nothing;"
   ]
  },
  {
   "cell_type": "markdown",
   "id": "afd69dcf-4b93-46ec-bd33-f07de8851419",
   "metadata": {},
   "source": [
    "Next, we'll create an array with the minimum desired rewards (the calculation must achieve at least this much reward) by starting at the `risk_free_rate`, and stepping to 10$\\times$`risk_free_rate`. Store these values in the `minimum_desired_reward_array` variable:"
   ]
  },
  {
   "cell_type": "code",
   "execution_count": 16,
   "id": "6e2c08bf-a70d-43f3-8cb9-88b794a2fb4c",
   "metadata": {
    "tags": []
   },
   "outputs": [],
   "source": [
    "minimum_desired_reward_array = range(risk_free_rate, stop = 10*risk_free_rate, length = number_of_points) |> collect;"
   ]
  },
  {
   "cell_type": "markdown",
   "id": "3efe1e38-dff3-4b3e-b956-d6c881f7461c",
   "metadata": {},
   "source": [
    "Finally, we iterate through the `minimum_desired_reward_array` and compute the minimum risk required to achieve the specified reward level using a `for-loop`. In particular, for each pass through the loop, we:\n",
    "* Update the `problem_risk` variable with the minimum desired reward\n",
    "* We then pass the updated `problem_risk` object to the `solve(...)` method (which initializes and solves the optimization problem). The solution returned from the `solve(...)` method is stored in the `solution` dictionary. \n",
    "* We check the `status` of the solution. If the `status` indicates an optimal solution was found, we store the solution in the `efficient_frontier` dictionary."
   ]
  },
  {
   "cell_type": "code",
   "execution_count": 17,
   "id": "b6bf0072-70fc-4304-8f0d-a5d71ab196a3",
   "metadata": {
    "tags": []
   },
   "outputs": [],
   "source": [
    "efficient_frontier = Dict{Float64,Float64}();\n",
    "for i ∈ eachindex(minimum_desired_reward_array)\n",
    "    # Fill me in, see description\n",
    "end"
   ]
  },
  {
   "cell_type": "markdown",
   "id": "6eaa5f34-b7ba-4161-974e-9ca941592689",
   "metadata": {},
   "source": [
    "## Task 3: Compute the CAL for your collection of `N = 10` stocks and a risk-free asset\n",
    "To compute the capital allocation line, create an instance of the `MyMarkowitzRiskyRiskFreePortfiolioChoiceProblem` type, and store this in the `problem_risk_free` variable using the `build(...)` method. You'll need to pass your covariance array $\\hat{\\Sigma}$, the expected return array $\\hat{\\mu}$, along with bounds, an initial guess, and the risk-free rate to the `build(...)` method:"
   ]
  },
  {
   "cell_type": "code",
   "execution_count": 18,
   "id": "83418b74-7d59-44a2-9002-370e72b7b978",
   "metadata": {
    "tags": []
   },
   "outputs": [],
   "source": [
    "problem_risk_free = nothing;"
   ]
  },
  {
   "cell_type": "markdown",
   "id": "de8058ce-6327-48f5-b93e-f3cd9a3f46b6",
   "metadata": {},
   "source": [
    "Iterate through the `minimum_desired_reward_array` and compute the minimum risk required to achieve the specified reward level, in the presence of a risk-free asset, using a `for-loop`. In particular, for each pass through the loop, we:\n",
    "* Update the `problem_risk_free` variable with the minimum desired reward\n",
    "* We then pass the updated `problem_risk_free` object to the `solve(...)` method (which initializes and solves the optimization problem). The solution returned from the `solve(...)` method is stored in the `solution_risk_free` dictionary. \n",
    "* We check the `status` of the solution. If the `status` indicates an optimal solution was found, we store the solution in the `capital_allocation_line` dictionary."
   ]
  },
  {
   "cell_type": "code",
   "execution_count": 19,
   "id": "45bffcbd-f3f7-44cc-ba53-33c5759c4609",
   "metadata": {
    "tags": []
   },
   "outputs": [],
   "source": [
    "capital_allocation_line = Dict{Float64,Float64}();\n",
    "for i ∈ eachindex(minimum_desired_reward_array)\n",
    "     # Fill me in, see description\n",
    "end"
   ]
  },
  {
   "cell_type": "markdown",
   "id": "9505ceca-0ec0-4b0d-b9da-97e45c169fbc",
   "metadata": {},
   "source": [
    "### Estimate the risk and reward for the tangent portfolio\n",
    "Plot the efficient frontier and the capital allocation line on the $\\sigma$ (risk) versus $\\mathbb{E}(r)$ (reward) plane. Estimate the return and risk of the tangent portfolio from the graph:  "
   ]
  },
  {
   "cell_type": "code",
   "execution_count": 20,
   "id": "e314c444-f321-49b8-aa4f-311cca381881",
   "metadata": {
    "tags": []
   },
   "outputs": [],
   "source": [
    "# uncomment the block below and execute. If all is working, you should see the efficient frontier and the capital allocation line\n",
    "\n",
    "# # plot the efficient frontier \n",
    "# plot(efficient_frontier, lw=4, xlabel=\"Risk sqrt(variance)\", \n",
    "#     ylabel=\"Reward (log return)\", fontsize=18, label=\"\", c=:gray69, \n",
    "#     xlim=(0.0, 1.1*maximum(efficient_frontier).first))\n",
    "# scatter!(efficient_frontier, label=\"Estimated solution\", c=:black)\n",
    "\n",
    "# # plot the capital allocation line\n",
    "# plot!(capital_allocation_line, lw=4, xlabel=\"Risk sqrt(variance)\", \n",
    "#     ylabel=\"Reward (annualized log growth)\", fontsize=18, c=:red, \n",
    "#     xlim=(0.0, 1.1*maximum(capital_allocation_line).first), label=\"Capital Allocation Line (CAL)\")\n",
    "# scatter!(capital_allocation_line, label=\"\", msc=:red, mc=:white)"
   ]
  },
  {
   "cell_type": "markdown",
   "id": "615b90fb-2be6-4e9d-b97c-a0da428095ab",
   "metadata": {},
   "source": [
    "## Task 4: Compute your operating point on the CAL\n",
    "Now that we have the values for the tangent portfolio, we can estimate where we lie on the capital allocation line that considers our risk aversion, i.e., how we feel about taking risks. First, specify your risk aversion parameter `A`:\n",
    "* Large values of `A` imply the decision maker is risk-averse\n",
    "* Small values of `A` suggest the decision maker is less concerned with risk"
   ]
  },
  {
   "cell_type": "code",
   "execution_count": 21,
   "id": "d64e74aa-eff6-418b-a503-d276c6fd7e52",
   "metadata": {
    "tags": []
   },
   "outputs": [],
   "source": [
    "A = 1.0; # update this with the value we estimated for you from lecture "
   ]
  },
  {
   "cell_type": "markdown",
   "id": "32dc8364-eaa7-4aca-87d2-2be655a92e61",
   "metadata": {},
   "source": [
    "Next, set the values of the tangent portfolio and resolve the problem. In particular, update the `R` field of the `problem_risk_free` model with the value of the return for the tangent portfolio that you estimated from the graph, and then solve the optimization problem again using the `solve(...)` function passing in the updated risk-free model. Store the tangent portfolio solution in the `solution_tangent_portfolio` variable:"
   ]
  },
  {
   "cell_type": "code",
   "execution_count": 22,
   "id": "6e5960a8-9bed-4421-9324-62e9349a1080",
   "metadata": {
    "tags": []
   },
   "outputs": [],
   "source": [
    "# fill me in, see description"
   ]
  },
  {
   "cell_type": "markdown",
   "id": "1d4997b4-948b-4b81-a330-65c16e3b09e4",
   "metadata": {
    "tags": []
   },
   "source": [
    "Finally, compute you optimal $\\hat{\\theta}$ value using the analytical solution of the utility maximization problem and your `A`"
   ]
  },
  {
   "cell_type": "code",
   "execution_count": 23,
   "id": "1ad6cf3c-9724-4225-beb0-63e9edb390bb",
   "metadata": {
    "tags": []
   },
   "outputs": [],
   "source": [
    "θ̂ = nothing; # replace this with your calculation"
   ]
  },
  {
   "cell_type": "markdown",
   "id": "8d2696cd-2b28-452f-9fef-ad97c2e32d17",
   "metadata": {},
   "source": [
    "### What does your $\\hat{\\theta}$ mean?"
   ]
  },
  {
   "cell_type": "code",
   "execution_count": 24,
   "id": "e6f7454c-1bbc-4762-833d-79b29139b369",
   "metadata": {
    "tags": []
   },
   "outputs": [],
   "source": [
    "# Describe your interpretation of your position ion the capital allocation line."
   ]
  },
  {
   "cell_type": "markdown",
   "id": "5b7e8656-a870-4653-85c8-aeb1e265d087",
   "metadata": {},
   "source": [
    "## Disclaimer and Risks\n",
    "\n",
    "__This content is offered solely for training and informational purposes__. No offer or solicitation to buy or sell securities or derivative products or any investment or trading advice or strategy is made, given, or endorsed by the teaching team.\n",
    "\n",
    "__Trading involves risk__. Carefully review your financial situation before investing in securities, futures contracts, options, or commodity interests. Past performance, whether actual or indicated by historical tests of strategies, is no guarantee of future performance or success. Trading is generally inappropriate for someone with limited resources, investment or trading experience, or a low-risk tolerance. Only risk capital that is not required for living expenses.\n",
    "\n",
    "__You are fully responsible for any investment or trading decisions you make__. Such decisions should be based solely on evaluating your financial circumstances, investment or trading objectives, risk tolerance, and liquidity needs."
   ]
  },
  {
   "cell_type": "code",
   "execution_count": null,
   "id": "f55ae29a-01da-4945-8f5a-5ea872442ac1",
   "metadata": {},
   "outputs": [],
   "source": []
  }
 ],
 "metadata": {
  "kernelspec": {
   "display_name": "Julia 1.9.3",
   "language": "julia",
   "name": "julia-1.9"
  },
  "language_info": {
   "file_extension": ".jl",
   "mimetype": "application/julia",
   "name": "julia",
   "version": "1.9.3"
  }
 },
 "nbformat": 4,
 "nbformat_minor": 5
}
