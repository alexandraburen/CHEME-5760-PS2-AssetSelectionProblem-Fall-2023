{
 "cells": [
  {
   "cell_type": "markdown",
   "id": "b591adc4-0afa-4cd6-9e9d-b408fb7edb7e",
   "metadata": {},
   "source": [
    "# PS2: Selection of an Uncorrelated Tangent Portfolio\n",
    "Fill me in.\n",
    "\n",
    "## Problem statement\n",
    "* Task 1: Compute the log return array and covariance matrix for a collection of `N = 10` stocks that you select from the historical dataset \n",
    "* Task 2: Compute the efficient frontier for your collection of `N = 10` stocks\n",
    "* Task 3: Compute the capital allocation line connecting the risk-free asset and the tangent portfolio\n",
    "* Task 4: Use your estimated value for the risk aversion parameter `A` to estimate your investment allocation along the capital allocation line"
   ]
  },
  {
   "cell_type": "markdown",
   "id": "714c5346-c7ac-44f1-a5bc-a58d77ce90d3",
   "metadata": {},
   "source": [
    "## Setup"
   ]
  },
  {
   "cell_type": "code",
   "execution_count": 1,
   "id": "5b2b39ba-7a95-420d-8641-3d85cd4cae87",
   "metadata": {
    "tags": []
   },
   "outputs": [
    {
     "name": "stderr",
     "output_type": "stream",
     "text": [
      "\u001b[32m\u001b[1m    Updating\u001b[22m\u001b[39m git-repo `https://github.com/varnerlab/VLDecisionsPackage.jl.git`\n",
      "\u001b[32m\u001b[1m   Resolving\u001b[22m\u001b[39m package versions...\n",
      "\u001b[32m\u001b[1m  No Changes\u001b[22m\u001b[39m to `~/Desktop/julia_work/CHEME-5760-PS2-AssetSelectionProblem-Fall-2023/Project.toml`\n",
      "\u001b[32m\u001b[1m  No Changes\u001b[22m\u001b[39m to `~/Desktop/julia_work/CHEME-5760-PS2-AssetSelectionProblem-Fall-2023/Manifest.toml`\n",
      "\u001b[32m\u001b[1m  Activating\u001b[22m\u001b[39m project at `~/Desktop/julia_work/CHEME-5760-PS2-AssetSelectionProblem-Fall-2023`\n",
      "\u001b[32m\u001b[1m    Updating\u001b[22m\u001b[39m registry at `~/.julia/registries/General.toml`\n",
      "\u001b[32m\u001b[1m    Updating\u001b[22m\u001b[39m git-repo `https://github.com/varnerlab/VLDecisionsPackage.jl.git`\n",
      "\u001b[32m\u001b[1m  No Changes\u001b[22m\u001b[39m to `~/Desktop/julia_work/CHEME-5760-PS2-AssetSelectionProblem-Fall-2023/Project.toml`\n",
      "\u001b[32m\u001b[1m  No Changes\u001b[22m\u001b[39m to `~/Desktop/julia_work/CHEME-5760-PS2-AssetSelectionProblem-Fall-2023/Manifest.toml`\n"
     ]
    }
   ],
   "source": [
    "include(\"Include.jl\");"
   ]
  },
  {
   "cell_type": "markdown",
   "id": "776aacc5-dd2a-4962-8f94-2c8ef0944208",
   "metadata": {},
   "source": [
    "### Load historical dataset\n",
    "We gathered a daily open-high-low-close `dataset` for each firm in the [S&P500](https://en.wikipedia.org/wiki/S%26P_500) for the past five-trading years (a maximum of `1256` data points per firm). However, not all the firms in the `dataset` have the maximum number of trading days, i.e., some firms are missing information for various reasons; perhaps they were acquired, merged, or delisted, etc. We will exclude these firms from the `dataset`.\n",
    "\n",
    "We load the price `dataset` by calling the `MyPortfolioDataSet()` function:"
   ]
  },
  {
   "cell_type": "code",
   "execution_count": 2,
   "id": "04e0aa3d-89c1-4613-b5da-ef27c5e8bd98",
   "metadata": {
    "tags": []
   },
   "outputs": [],
   "source": [
    "dataset = MyPortfolioDataSet() |> x-> x[\"dataset\"];"
   ]
  },
  {
   "cell_type": "markdown",
   "id": "1932a4ca-d76b-462f-8cfd-5fc640ade489",
   "metadata": {},
   "source": [
    "The all keys array holds the list of firm indexes in the dataset that have complete data, i.e., all `1256` data values: "
   ]
  },
  {
   "cell_type": "code",
   "execution_count": 3,
   "id": "d7b380fb-0be0-4c59-8c0b-ef03d1994503",
   "metadata": {
    "tags": []
   },
   "outputs": [],
   "source": [
    "all_firms = keys(dataset) |> collect |> sort;"
   ]
  },
  {
   "cell_type": "markdown",
   "id": "7727a1f6-5952-40e4-97c3-2d8563600e4c",
   "metadata": {},
   "source": [
    "However, while it is sometimes convenient to work with the data using the `firm_index`, often we specify the [ticker symbol](https://en.wikipedia.org/wiki/Ticker_symbol#:~:text=A%20ticker%20symbol%20or%20stock,on%20a%20particular%20stock%20market.) instead. To facilitate this, let's load a mapping between the `firm_index` and the ticker symbols using the `MyFirmMappingDataSet()` function. We store this mapping in the `firm_mapping_df` variable, which is of type `DataFrame`:"
   ]
  },
  {
   "cell_type": "code",
   "execution_count": 4,
   "id": "7af6103a-d54e-4d15-b966-0b32634a5815",
   "metadata": {
    "tags": []
   },
   "outputs": [
    {
     "data": {
      "text/html": [
       "<div><div style = \"float: left;\"><span>505×3 DataFrame</span></div><div style = \"float: right;\"><span style = \"font-style: italic;\">480 rows omitted</span></div><div style = \"clear: both;\"></div></div><div class = \"data-frame\" style = \"overflow-x: scroll;\"><table class = \"data-frame\" style = \"margin-bottom: 6px;\"><thead><tr class = \"header\"><th class = \"rowNumber\" style = \"font-weight: bold; text-align: right;\">Row</th><th style = \"text-align: left;\">Symbol</th><th style = \"text-align: left;\">Name</th><th style = \"text-align: left;\">Sector</th></tr><tr class = \"subheader headerLastRow\"><th class = \"rowNumber\" style = \"font-weight: bold; text-align: right;\"></th><th title = \"String7\" style = \"text-align: left;\">String7</th><th title = \"String\" style = \"text-align: left;\">String</th><th title = \"String31\" style = \"text-align: left;\">String31</th></tr></thead><tbody><tr><td class = \"rowNumber\" style = \"font-weight: bold; text-align: right;\">1</td><td style = \"text-align: left;\">MMM</td><td style = \"text-align: left;\">3M</td><td style = \"text-align: left;\">Industrials</td></tr><tr><td class = \"rowNumber\" style = \"font-weight: bold; text-align: right;\">2</td><td style = \"text-align: left;\">AOS</td><td style = \"text-align: left;\">A. O. Smith</td><td style = \"text-align: left;\">Industrials</td></tr><tr><td class = \"rowNumber\" style = \"font-weight: bold; text-align: right;\">3</td><td style = \"text-align: left;\">ABT</td><td style = \"text-align: left;\">Abbott Laboratories</td><td style = \"text-align: left;\">Health Care</td></tr><tr><td class = \"rowNumber\" style = \"font-weight: bold; text-align: right;\">4</td><td style = \"text-align: left;\">ABBV</td><td style = \"text-align: left;\">AbbVie</td><td style = \"text-align: left;\">Health Care</td></tr><tr><td class = \"rowNumber\" style = \"font-weight: bold; text-align: right;\">5</td><td style = \"text-align: left;\">ABMD</td><td style = \"text-align: left;\">Abiomed</td><td style = \"text-align: left;\">Health Care</td></tr><tr><td class = \"rowNumber\" style = \"font-weight: bold; text-align: right;\">6</td><td style = \"text-align: left;\">ACN</td><td style = \"text-align: left;\">Accenture</td><td style = \"text-align: left;\">Information Technology</td></tr><tr><td class = \"rowNumber\" style = \"font-weight: bold; text-align: right;\">7</td><td style = \"text-align: left;\">ATVI</td><td style = \"text-align: left;\">Activision Blizzard</td><td style = \"text-align: left;\">Communication Services</td></tr><tr><td class = \"rowNumber\" style = \"font-weight: bold; text-align: right;\">8</td><td style = \"text-align: left;\">ADM</td><td style = \"text-align: left;\">ADM</td><td style = \"text-align: left;\">Consumer Staples</td></tr><tr><td class = \"rowNumber\" style = \"font-weight: bold; text-align: right;\">9</td><td style = \"text-align: left;\">ADBE</td><td style = \"text-align: left;\">Adobe</td><td style = \"text-align: left;\">Information Technology</td></tr><tr><td class = \"rowNumber\" style = \"font-weight: bold; text-align: right;\">10</td><td style = \"text-align: left;\">AAP</td><td style = \"text-align: left;\">Advance Auto Parts</td><td style = \"text-align: left;\">Consumer Discretionary</td></tr><tr><td class = \"rowNumber\" style = \"font-weight: bold; text-align: right;\">11</td><td style = \"text-align: left;\">AMD</td><td style = \"text-align: left;\">Advanced Micro Devices</td><td style = \"text-align: left;\">Information Technology</td></tr><tr><td class = \"rowNumber\" style = \"font-weight: bold; text-align: right;\">12</td><td style = \"text-align: left;\">AES</td><td style = \"text-align: left;\">AES Corp</td><td style = \"text-align: left;\">Utilities</td></tr><tr><td class = \"rowNumber\" style = \"font-weight: bold; text-align: right;\">13</td><td style = \"text-align: left;\">AFL</td><td style = \"text-align: left;\">Aflac</td><td style = \"text-align: left;\">Financials</td></tr><tr><td style = \"text-align: right;\">&vellip;</td><td style = \"text-align: right;\">&vellip;</td><td style = \"text-align: right;\">&vellip;</td><td style = \"text-align: right;\">&vellip;</td></tr><tr><td class = \"rowNumber\" style = \"font-weight: bold; text-align: right;\">494</td><td style = \"text-align: left;\">WHR</td><td style = \"text-align: left;\">Whirlpool Corporation</td><td style = \"text-align: left;\">Consumer Discretionary</td></tr><tr><td class = \"rowNumber\" style = \"font-weight: bold; text-align: right;\">495</td><td style = \"text-align: left;\">WMB</td><td style = \"text-align: left;\">Williams Companies</td><td style = \"text-align: left;\">Energy</td></tr><tr><td class = \"rowNumber\" style = \"font-weight: bold; text-align: right;\">496</td><td style = \"text-align: left;\">WLTW</td><td style = \"text-align: left;\">Willis Towers Watson</td><td style = \"text-align: left;\">Financials</td></tr><tr><td class = \"rowNumber\" style = \"font-weight: bold; text-align: right;\">497</td><td style = \"text-align: left;\">WYNN</td><td style = \"text-align: left;\">Wynn Resorts</td><td style = \"text-align: left;\">Consumer Discretionary</td></tr><tr><td class = \"rowNumber\" style = \"font-weight: bold; text-align: right;\">498</td><td style = \"text-align: left;\">XEL</td><td style = \"text-align: left;\">Xcel Energy</td><td style = \"text-align: left;\">Utilities</td></tr><tr><td class = \"rowNumber\" style = \"font-weight: bold; text-align: right;\">499</td><td style = \"text-align: left;\">XLNX</td><td style = \"text-align: left;\">Xilinx</td><td style = \"text-align: left;\">Information Technology</td></tr><tr><td class = \"rowNumber\" style = \"font-weight: bold; text-align: right;\">500</td><td style = \"text-align: left;\">XYL</td><td style = \"text-align: left;\">Xylem</td><td style = \"text-align: left;\">Industrials</td></tr><tr><td class = \"rowNumber\" style = \"font-weight: bold; text-align: right;\">501</td><td style = \"text-align: left;\">YUM</td><td style = \"text-align: left;\">Yum! Brands</td><td style = \"text-align: left;\">Consumer Discretionary</td></tr><tr><td class = \"rowNumber\" style = \"font-weight: bold; text-align: right;\">502</td><td style = \"text-align: left;\">ZBRA</td><td style = \"text-align: left;\">Zebra Technologies</td><td style = \"text-align: left;\">Information Technology</td></tr><tr><td class = \"rowNumber\" style = \"font-weight: bold; text-align: right;\">503</td><td style = \"text-align: left;\">ZBH</td><td style = \"text-align: left;\">Zimmer Biomet</td><td style = \"text-align: left;\">Health Care</td></tr><tr><td class = \"rowNumber\" style = \"font-weight: bold; text-align: right;\">504</td><td style = \"text-align: left;\">ZION</td><td style = \"text-align: left;\">Zions Bancorp</td><td style = \"text-align: left;\">Financials</td></tr><tr><td class = \"rowNumber\" style = \"font-weight: bold; text-align: right;\">505</td><td style = \"text-align: left;\">ZTS</td><td style = \"text-align: left;\">Zoetis</td><td style = \"text-align: left;\">Health Care</td></tr></tbody></table></div>"
      ],
      "text/latex": [
       "\\begin{tabular}{r|ccc}\n",
       "\t& Symbol & Name & Sector\\\\\n",
       "\t\\hline\n",
       "\t& String7 & String & String31\\\\\n",
       "\t\\hline\n",
       "\t1 & MMM & 3M & Industrials \\\\\n",
       "\t2 & AOS & A. O. Smith & Industrials \\\\\n",
       "\t3 & ABT & Abbott Laboratories & Health Care \\\\\n",
       "\t4 & ABBV & AbbVie & Health Care \\\\\n",
       "\t5 & ABMD & Abiomed & Health Care \\\\\n",
       "\t6 & ACN & Accenture & Information Technology \\\\\n",
       "\t7 & ATVI & Activision Blizzard & Communication Services \\\\\n",
       "\t8 & ADM & ADM & Consumer Staples \\\\\n",
       "\t9 & ADBE & Adobe & Information Technology \\\\\n",
       "\t10 & AAP & Advance Auto Parts & Consumer Discretionary \\\\\n",
       "\t11 & AMD & Advanced Micro Devices & Information Technology \\\\\n",
       "\t12 & AES & AES Corp & Utilities \\\\\n",
       "\t13 & AFL & Aflac & Financials \\\\\n",
       "\t14 & A & Agilent Technologies & Health Care \\\\\n",
       "\t15 & APD & Air Products \\& Chemicals & Materials \\\\\n",
       "\t16 & AKAM & Akamai Technologies & Information Technology \\\\\n",
       "\t17 & ALK & Alaska Air Group & Industrials \\\\\n",
       "\t18 & ALB & Albemarle Corporation & Materials \\\\\n",
       "\t19 & ARE & Alexandria Real Estate Equities & Real Estate \\\\\n",
       "\t20 & ALGN & Align Technology & Health Care \\\\\n",
       "\t21 & ALLE & Allegion & Industrials \\\\\n",
       "\t22 & LNT & Alliant Energy & Utilities \\\\\n",
       "\t23 & ALL & Allstate Corp & Financials \\\\\n",
       "\t24 & GOOGL & Alphabet (Class A) & Communication Services \\\\\n",
       "\t25 & GOOG & Alphabet (Class C) & Communication Services \\\\\n",
       "\t26 & MO & Altria Group & Consumer Staples \\\\\n",
       "\t27 & AMZN & Amazon & Consumer Discretionary \\\\\n",
       "\t28 & AMCR & Amcor & Materials \\\\\n",
       "\t29 & AEE & Ameren Corp & Utilities \\\\\n",
       "\t30 & AAL & American Airlines Group & Industrials \\\\\n",
       "\t$\\dots$ & $\\dots$ & $\\dots$ & $\\dots$ \\\\\n",
       "\\end{tabular}\n"
      ],
      "text/plain": [
       "\u001b[1m505×3 DataFrame\u001b[0m\n",
       "\u001b[1m Row \u001b[0m│\u001b[1m Symbol  \u001b[0m\u001b[1m Name                   \u001b[0m\u001b[1m Sector                 \u001b[0m\n",
       "     │\u001b[90m String7 \u001b[0m\u001b[90m String                 \u001b[0m\u001b[90m String31               \u001b[0m\n",
       "─────┼─────────────────────────────────────────────────────────\n",
       "   1 │ MMM      3M                      Industrials\n",
       "   2 │ AOS      A. O. Smith             Industrials\n",
       "   3 │ ABT      Abbott Laboratories     Health Care\n",
       "   4 │ ABBV     AbbVie                  Health Care\n",
       "   5 │ ABMD     Abiomed                 Health Care\n",
       "   6 │ ACN      Accenture               Information Technology\n",
       "   7 │ ATVI     Activision Blizzard     Communication Services\n",
       "   8 │ ADM      ADM                     Consumer Staples\n",
       "   9 │ ADBE     Adobe                   Information Technology\n",
       "  10 │ AAP      Advance Auto Parts      Consumer Discretionary\n",
       "  11 │ AMD      Advanced Micro Devices  Information Technology\n",
       "  ⋮  │    ⋮               ⋮                       ⋮\n",
       " 496 │ WLTW     Willis Towers Watson    Financials\n",
       " 497 │ WYNN     Wynn Resorts            Consumer Discretionary\n",
       " 498 │ XEL      Xcel Energy             Utilities\n",
       " 499 │ XLNX     Xilinx                  Information Technology\n",
       " 500 │ XYL      Xylem                   Industrials\n",
       " 501 │ YUM      Yum! Brands             Consumer Discretionary\n",
       " 502 │ ZBRA     Zebra Technologies      Information Technology\n",
       " 503 │ ZBH      Zimmer Biomet           Health Care\n",
       " 504 │ ZION     Zions Bancorp           Financials\n",
       " 505 │ ZTS      Zoetis                  Health Care\n",
       "\u001b[36m                                               484 rows omitted\u001b[0m"
      ]
     },
     "execution_count": 4,
     "metadata": {},
     "output_type": "execute_result"
    }
   ],
   "source": [
    "firm_mapping_df = MyFirmMappingDataSet()"
   ]
  },
  {
   "cell_type": "markdown",
   "id": "e0f9c1c4-ec1a-4fe3-b57e-15d5ae960067",
   "metadata": {},
   "source": [
    "Finally, to interconvert between the `firm_index` and `ticker` representation of the firms in the dataset, we create a `ticker_lookup_dictionary` which holds the ticker symbols as the keys and the `firm_index` as the value:"
   ]
  },
  {
   "cell_type": "code",
   "execution_count": 5,
   "id": "836bd589-a9de-4073-be8a-4f8751b005bc",
   "metadata": {
    "tags": []
   },
   "outputs": [
    {
     "ename": "LoadError",
     "evalue": "UndefVarError: `firm_mapping` not defined",
     "output_type": "error",
     "traceback": [
      "UndefVarError: `firm_mapping` not defined",
      "",
      "Stacktrace:",
      " [1] top-level scope",
      "   @ In[5]:2"
     ]
    }
   ],
   "source": [
    "ticker_lookup_dictionary = Dict{String,Int64}();\n",
    "number_of_map_elements = nrow(firm_mapping);\n",
    "for i ∈ 1:number_of_map_elements\n",
    "    ticker = firm_mapping_df[i,:Symbol];    \n",
    "    ticker_lookup_dictionary[ticker] = i;\n",
    "end"
   ]
  },
  {
   "cell_type": "markdown",
   "id": "487c631c-e1b7-4d0d-bbf1-0320743c47aa",
   "metadata": {
    "tags": []
   },
   "source": [
    "For example, [Apple](https://www.apple.com) has the `ticker = AAPL`, in the dataset that is `firm_index`:"
   ]
  },
  {
   "cell_type": "code",
   "execution_count": 6,
   "id": "575d532e-0505-451d-bcb6-9c7fea6eb149",
   "metadata": {
    "tags": []
   },
   "outputs": [
    {
     "ename": "LoadError",
     "evalue": "KeyError: key \"AAPL\" not found",
     "output_type": "error",
     "traceback": [
      "KeyError: key \"AAPL\" not found",
      "",
      "Stacktrace:",
      " [1] getindex(h::Dict{String, Int64}, key::String)",
      "   @ Base ./dict.jl:484",
      " [2] top-level scope",
      "   @ In[6]:1"
     ]
    }
   ],
   "source": [
    "ticker_lookup_dictionary[\"AAPL\"]"
   ]
  },
  {
   "cell_type": "code",
   "execution_count": 7,
   "id": "61ed21d6-60ae-453b-aa06-bbe95cf9b51c",
   "metadata": {
    "tags": []
   },
   "outputs": [],
   "source": [
    "all_return_matrix = log_return_matrix(dataset, all_firms; Δt = (1/252));\n",
    "all_covariance_matrix = (1/100)*cov(all_return_matrix);\n",
    "all_expected_return = mean(all_return_matrix, dims=1) |> vec |> x-> exp.(x) .- 1;"
   ]
  },
  {
   "cell_type": "code",
   "execution_count": 8,
   "id": "0b364bba-05bd-4ae3-b14c-e5200f57bc33",
   "metadata": {
    "tags": []
   },
   "outputs": [
    {
     "ename": "LoadError",
     "evalue": "UndefVarError: `firm_mapping` not defined",
     "output_type": "error",
     "traceback": [
      "UndefVarError: `firm_mapping` not defined",
      "",
      "Stacktrace:",
      " [1] top-level scope",
      "   @ ./In[8]:4"
     ]
    }
   ],
   "source": [
    "all_tickers_array = Array{String,1}()\n",
    "for i ∈ eachindex(all_firms)\n",
    "    firm_index = all_firms[i];\n",
    "    push!(all_tickers_array, firm_mapping[firm_index, :Symbol])\n",
    "end\n",
    "all_tickers_array"
   ]
  },
  {
   "cell_type": "markdown",
   "id": "b79b78fc-1a2b-47b4-9f84-9e0480b9bdb1",
   "metadata": {},
   "source": [
    "### Set constants\n",
    "Finally, we set some constant values that are used in the computation of the efficient frontier and the capital allocation line:"
   ]
  },
  {
   "cell_type": "code",
   "execution_count": 9,
   "id": "bd310871-2df2-43c8-b17d-ce898553c64e",
   "metadata": {
    "tags": []
   },
   "outputs": [],
   "source": [
    "number_of_firms = 10;\n",
    "initial = zeros(number_of_firms);\n",
    "initial[1] = 1.0;\n",
    "bounds = zeros(number_of_firms,2);\n",
    "bounds[:,2] .= 1.0;\n",
    "risk_free_rate = 0.045\n",
    "number_of_points = 20;"
   ]
  },
  {
   "cell_type": "markdown",
   "id": "b7d76a72-2e57-41d1-a620-6bb158f4c16b",
   "metadata": {},
   "source": [
    "## Task 1: Compute the log return array and covariance matrix for your selection of stocks"
   ]
  },
  {
   "cell_type": "markdown",
   "id": "fa387502-39f2-45c3-a3d8-1a1a2da07e72",
   "metadata": {},
   "source": [
    "Each firm is assigned an `index` (the `keys` of the `dataset` dictionary). Let's specify a list of `tickers` and look up the corresponding `firm_index` from the `ticker_lookup_dictionary`. We'll hold the indexes of the firms we are interested in in the `firms` array:"
   ]
  },
  {
   "cell_type": "code",
   "execution_count": 10,
   "id": "f2b4915f-21c8-4f98-8148-f116fe01bf42",
   "metadata": {
    "tags": []
   },
   "outputs": [
    {
     "ename": "LoadError",
     "evalue": "KeyError: key \"ADBE\" not found",
     "output_type": "error",
     "traceback": [
      "KeyError: key \"ADBE\" not found",
      "",
      "Stacktrace:",
      " [1] getindex(h::Dict{String, Int64}, key::String)",
      "   @ Base ./dict.jl:484",
      " [2] top-level scope",
      "   @ ./In[10]:4"
     ]
    }
   ],
   "source": [
    "my_list_of_tickers = [\"ADBE\",\"ZTS\",\"AAPL\"];\n",
    "my_list_of_firms = Array{Int64,1}();\n",
    "for ticker ∈ my_list_of_tickers\n",
    "    firm_index = ticker_lookup_dictionary[ticker];    \n",
    "    push!(my_list_of_firms, firm_index)\n",
    "end"
   ]
  },
  {
   "cell_type": "code",
   "execution_count": 11,
   "id": "df014d8e-ab91-4e73-b236-ceaea46b4c75",
   "metadata": {
    "tags": []
   },
   "outputs": [],
   "source": [
    "my_expected_return_array = Array{Float64,1}();\n",
    "for i ∈ eachindex(my_list_of_firms)\n",
    "    firm_index = findfirst(x->x==my_list_of_firms[i], all_firms)\n",
    "    push!(my_expected_return_array, all_expected_return[firm_index])\n",
    "end"
   ]
  },
  {
   "cell_type": "code",
   "execution_count": 12,
   "id": "59695873-7fac-4c96-8ce6-aeb8c4520bc4",
   "metadata": {
    "tags": []
   },
   "outputs": [
    {
     "data": {
      "text/plain": [
       "Float64[]"
      ]
     },
     "execution_count": 12,
     "metadata": {},
     "output_type": "execute_result"
    }
   ],
   "source": [
    "my_expected_return_array"
   ]
  },
  {
   "cell_type": "markdown",
   "id": "0f1b50da-9536-42f8-9e18-010ce16c824c",
   "metadata": {},
   "source": [
    "## Task 2: Compute the efficient frontier for your collection of `N = 10` stocks\n",
    "Fill me in"
   ]
  },
  {
   "cell_type": "markdown",
   "id": "6eaa5f34-b7ba-4161-974e-9ca941592689",
   "metadata": {},
   "source": [
    "## Task 3: Compute the capital allocation line\n",
    "Fill me in"
   ]
  },
  {
   "cell_type": "markdown",
   "id": "615b90fb-2be6-4e9d-b97c-a0da428095ab",
   "metadata": {},
   "source": [
    "## Task 4: Compute your operating point\n",
    "Fill me in"
   ]
  },
  {
   "cell_type": "code",
   "execution_count": null,
   "id": "27bc43c9-98ff-4f89-b560-f40653716656",
   "metadata": {},
   "outputs": [],
   "source": []
  }
 ],
 "metadata": {
  "kernelspec": {
   "display_name": "Julia 1.9.3",
   "language": "julia",
   "name": "julia-1.9"
  },
  "language_info": {
   "file_extension": ".jl",
   "mimetype": "application/julia",
   "name": "julia",
   "version": "1.9.3"
  }
 },
 "nbformat": 4,
 "nbformat_minor": 5
}
